{
 "cells": [
  {
   "cell_type": "markdown",
   "id": "02f97e40",
   "metadata": {},
   "source": [
    "# Problem\n",
    "\n",
    "\n",
    "\n",
    "1. Given a product description, can it recognize whether the product is in Salty Snack category. This classifier could be helpful to identify potential competitor products for an eCommerce seller or brand. This classifier could be extended to other category or a multiclasses classifier. However, for the simplicity of the task, I only train the model to perform a binary classifier task.\n",
    "\n",
    "2. Given 2 product descriptions, the model need to classify whether they are the same product or not. This problem is a multi billions problem for a eCommerce player who sells its products across multiple platforms. Same products usually listed differently in different retailers, it becomes a challenges for seller to track the performances of the products across multiple platform with the lack of mapping tables. One of the usecase is to track the price and sales across multiple retailer so eCommerce seller can optimize their pricing strategy. Product matching could be a valuable tool for marketplace such as Amazon or Google shopping where one seller could launch multiple product listings with the exact same products and slightly different descriptions or title in order to get more market share. Human could easily tell 2 products identical even if there are slightly different phrasing or keywords in product description or differences in product pages. Therefore, a model that could detect identical products by comparing its product pages could save tons of mannual work\n",
    "\n"
   ]
  },
  {
   "cell_type": "markdown",
   "id": "4d97f5aa",
   "metadata": {},
   "source": [
    "### Data\n",
    "\n",
    "There are total 113788 product descriptions scraped from different eCommerce retailers such as Amazon.com, Walmart.com, Kroger.com, Target.com, Instacrt etc. In this dataset, there are 53,788 positive label and 60,000 negative label. Positive labels are corresponding to products in Salty Snack category and negative labels are products not belong to Salty Snack category. The only feature the model will be using is the product description\n",
    "\n",
    "### Feature Engineering\n",
    "\n",
    "Since there is only one feature available, product description, we need to firstly vectorized the text into model learnable features. In NLP area, such vectorization process is called Word2Vec. In this exercise, I used 2 methods to encode the product descriptions \n",
    "- TFIDF\n",
    "- BERT Word Embedding\n",
    "\n",
    "\n",
    "### Algorithms\n",
    "\n",
    "In this problem, I will implement 5 algorithms to classify the product into Salty Snack Category and Non-Salty Snack.\n",
    "\n",
    "- Decision Trees. \n",
    "    - Different Purning methods\n",
    "    - How to splite and select the features\n",
    "    \n",
    "\n",
    "- Neural Networks. \n",
    "    - Layers and Neurons\n",
    "    - Activation function\n",
    "    - Batch size\n",
    "    - Optimizers\n",
    "    - Termination\n",
    "\n",
    "- Boosting. \n",
    "    - Different trees\n",
    "    - Purning\n",
    "    \n",
    "\n",
    "\n",
    "- Support Vector Machines.\n",
    "    - kernel functions\n",
    "\n",
    "This should be done in such a way that you can swap out kernel functions. I'd like to see at least two.\n",
    "\n",
    "- k-Nearest Neighbors. \n",
    "\n",
    "    - Use different values of k.\n",
    "\n",
    "\n",
    "### Experiments\n",
    "### Metrics & Testing\n",
    "\n",
    "\n",
    "- the training and testing error rates you obtained running the various learning algorithms on your problems. \n",
    "- Graph of perofrmance as function of training size At the very least you should include graphs that show performance on both training and test data as a function of training size (note\n",
    "- Training time/ iterations and conversion\n",
    "- Learning curvers\n"
   ]
  },
  {
   "cell_type": "code",
   "execution_count": 1,
   "id": "525e155e",
   "metadata": {},
   "outputs": [
    {
     "name": "stderr",
     "output_type": "stream",
     "text": [
      "/Users/surichen/.pyenv/versions/3.8.13/lib/python3.8/site-packages/pandas/compat/__init__.py:124: UserWarning: Could not import the lzma module. Your installed Python is incomplete. Attempting to use lzma compression will result in a RuntimeError.\n",
      "  warnings.warn(msg)\n"
     ]
    }
   ],
   "source": [
    "import pandas as pd\n",
    "from pathlib import Path\n",
    "\n",
    "DATAPATH = \"/Users/surichen/Documents/Suri/GeogiaTech/Spring2023/data/project1\"\n",
    "\n",
    "data = pd.read_csv(Path(DATAPATH, \"product_categories.csv\"))"
   ]
  },
  {
   "cell_type": "code",
   "execution_count": 2,
   "id": "04899770",
   "metadata": {},
   "outputs": [
    {
     "data": {
      "text/plain": [
       "0    60000\n",
       "1    53788\n",
       "Name: label, dtype: int64"
      ]
     },
     "execution_count": 2,
     "metadata": {},
     "output_type": "execute_result"
    }
   ],
   "source": [
    "data.label.value_counts()"
   ]
  },
  {
   "cell_type": "markdown",
   "id": "ee348ee5",
   "metadata": {},
   "source": [
    "# Feature Engineering"
   ]
  },
  {
   "cell_type": "markdown",
   "id": "7a15edae",
   "metadata": {},
   "source": [
    "Text cleaning"
   ]
  },
  {
   "cell_type": "code",
   "execution_count": 3,
   "id": "7cb0b92a",
   "metadata": {},
   "outputs": [
    {
     "ename": "ModuleNotFoundError",
     "evalue": "No module named 'product_matcher'",
     "output_type": "error",
     "traceback": [
      "\u001b[0;31m---------------------------------------------------------------------------\u001b[0m",
      "\u001b[0;31mModuleNotFoundError\u001b[0m                       Traceback (most recent call last)",
      "Input \u001b[0;32mIn [3]\u001b[0m, in \u001b[0;36m<cell line: 1>\u001b[0;34m()\u001b[0m\n\u001b[0;32m----> 1\u001b[0m \u001b[38;5;28;01mimport\u001b[39;00m \u001b[38;5;21;01mproduct_matcher\u001b[39;00m\n",
      "\u001b[0;31mModuleNotFoundError\u001b[0m: No module named 'product_matcher'"
     ]
    }
   ],
   "source": [
    "import ppoet"
   ]
  },
  {
   "cell_type": "code",
   "execution_count": 32,
   "id": "de9a4da0",
   "metadata": {
    "scrolled": true
   },
   "outputs": [
    {
     "data": {
      "text/html": [
       "<div>\n",
       "<style scoped>\n",
       "    .dataframe tbody tr th:only-of-type {\n",
       "        vertical-align: middle;\n",
       "    }\n",
       "\n",
       "    .dataframe tbody tr th {\n",
       "        vertical-align: top;\n",
       "    }\n",
       "\n",
       "    .dataframe thead th {\n",
       "        text-align: right;\n",
       "    }\n",
       "</style>\n",
       "<table border=\"1\" class=\"dataframe\">\n",
       "  <thead>\n",
       "    <tr style=\"text-align: right;\">\n",
       "      <th></th>\n",
       "      <th>TITLE</th>\n",
       "      <th>SHORT_DESCRIPTION</th>\n",
       "      <th>PRODUCT_DESCRIPTION</th>\n",
       "      <th>IRI_CATEGORY_NAME</th>\n",
       "      <th>label</th>\n",
       "      <th>TITLE_CLEANED</th>\n",
       "    </tr>\n",
       "  </thead>\n",
       "  <tbody>\n",
       "    <tr>\n",
       "      <th>0</th>\n",
       "      <td>KETO FLCK CHKN CHPS BBQ 3 OZ</td>\n",
       "      <td>NaN</td>\n",
       "      <td>KETO FLCK CHKN CHPS BBQ 3 OZ</td>\n",
       "      <td>SALTY SNACKS</td>\n",
       "      <td>1</td>\n",
       "      <td>ketoflckchknchpsbbq3oz ketoflckchknchpsbbq3oz ...</td>\n",
       "    </tr>\n",
       "  </tbody>\n",
       "</table>\n",
       "</div>"
      ],
      "text/plain": [
       "                          TITLE SHORT_DESCRIPTION  \\\n",
       "0  KETO FLCK CHKN CHPS BBQ 3 OZ               NaN   \n",
       "\n",
       "            PRODUCT_DESCRIPTION IRI_CATEGORY_NAME  label  \\\n",
       "0  KETO FLCK CHKN CHPS BBQ 3 OZ      SALTY SNACKS      1   \n",
       "\n",
       "                                       TITLE_CLEANED  \n",
       "0  ketoflckchknchpsbbq3oz ketoflckchknchpsbbq3oz ...  "
      ]
     },
     "execution_count": 32,
     "metadata": {},
     "output_type": "execute_result"
    }
   ],
   "source": [
    "data.head(1)"
   ]
  },
  {
   "cell_type": "code",
   "execution_count": 26,
   "id": "80eccb4a",
   "metadata": {},
   "outputs": [],
   "source": [
    "data = data.dropna(subset=['TITLE']).reset_index(drop=True)"
   ]
  },
  {
   "cell_type": "code",
   "execution_count": 44,
   "id": "19fb8fff",
   "metadata": {},
   "outputs": [],
   "source": [
    "data['TITLE_CLEANED'] = data['TITLE'].apply(lambda x: clean_string(x))"
   ]
  },
  {
   "cell_type": "code",
   "execution_count": null,
   "id": "82462648",
   "metadata": {},
   "outputs": [],
   "source": []
  }
 ],
 "metadata": {
  "kernelspec": {
   "display_name": "Python 3 (ipykernel)",
   "language": "python",
   "name": "python3"
  },
  "language_info": {
   "codemirror_mode": {
    "name": "ipython",
    "version": 3
   },
   "file_extension": ".py",
   "mimetype": "text/x-python",
   "name": "python",
   "nbconvert_exporter": "python",
   "pygments_lexer": "ipython3",
   "version": "3.8.13"
  }
 },
 "nbformat": 4,
 "nbformat_minor": 5
}
