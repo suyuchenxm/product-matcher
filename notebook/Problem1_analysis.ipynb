{
 "cells": [
  {
   "cell_type": "code",
   "execution_count": 1,
   "id": "2883fb83",
   "metadata": {},
   "outputs": [
    {
     "name": "stderr",
     "output_type": "stream",
     "text": [
      "2023-02-12 20:46:53.592420: I tensorflow/core/platform/cpu_feature_guard.cc:193] This TensorFlow binary is optimized with oneAPI Deep Neural Network Library (oneDNN) to use the following CPU instructions in performance-critical operations:  AVX2 FMA\n",
      "To enable them in other operations, rebuild TensorFlow with the appropriate compiler flags.\n"
     ]
    }
   ],
   "source": [
    "from product_matcher.utils import *"
   ]
  },
  {
   "cell_type": "code",
   "execution_count": 2,
   "id": "ae99ab18",
   "metadata": {},
   "outputs": [],
   "source": [
    "PROJECT_PATH = \"..\""
   ]
  },
  {
   "cell_type": "code",
   "execution_count": 3,
   "id": "98abc76a",
   "metadata": {},
   "outputs": [],
   "source": [
    "import pandas as pd\n",
    "import matplotlib.pyplot as plt\n",
    "import os"
   ]
  },
  {
   "cell_type": "markdown",
   "id": "51bea500",
   "metadata": {},
   "source": [
    "Analysis report\n",
    "- x: training size\n",
    "- y: metrics\n",
    "- legend: params\n",
    "\n",
    "- Metrics\n",
    "    - 1. Fitting time (training time)\n",
    "    - 2. Socring \n",
    "    - 3. mean_train_precision\n",
    "    - 4. mean_test_precision\n",
    "    - 5. F1 score"
   ]
  },
  {
   "cell_type": "markdown",
   "id": "f4da88c1",
   "metadata": {},
   "source": [
    "# 1. Decision Tree"
   ]
  },
  {
   "cell_type": "code",
   "execution_count": 4,
   "id": "08cfa34d",
   "metadata": {},
   "outputs": [],
   "source": [
    "cfg = get_config(overrides=[\"experiments=problem1/decisiontree\"])\n",
    "cv_results_dt = loader(os.path.join(PROJECT_PATH, cfg['artifacts']['hyperparameter_study']['name']), 'pickle')\n",
    "report = pd.concat([pd.DataFrame(d) for k,d in cv_results_dt.items()], ignore_index=True)"
   ]
  },
  {
   "cell_type": "code",
   "execution_count": 5,
   "id": "3976de88",
   "metadata": {},
   "outputs": [
    {
     "name": "stderr",
     "output_type": "stream",
     "text": [
      "/var/folders/f9/35q1dxg13mqbmm0r53w0ymsm0000gp/T/ipykernel_84236/1975768774.py:4: SettingWithCopyWarning: \n",
      "A value is trying to be set on a copy of a slice from a DataFrame.\n",
      "Try using .loc[row_indexer,col_indexer] = value instead\n",
      "\n",
      "See the caveats in the documentation: https://pandas.pydata.org/pandas-docs/stable/user_guide/indexing.html#returning-a-view-versus-a-copy\n",
      "  data['params_str'] = data['params'].astype(str)\n"
     ]
    }
   ],
   "source": [
    "from product_matcher.plotter import plot_problem1_hyperparameters, plot_problem1_trainingsize\n",
    "\n",
    "data = report.loc[report.training_size==80000]\n",
    "data['params_str'] = data['params'].astype(str)"
   ]
  },
  {
   "cell_type": "code",
   "execution_count": 6,
   "id": "5871549c",
   "metadata": {},
   "outputs": [],
   "source": [
    "fig = plot_problem1_hyperparameters(data, \"decisiontree\")"
   ]
  },
  {
   "cell_type": "code",
   "execution_count": 8,
   "id": "9a67d2e8",
   "metadata": {},
   "outputs": [],
   "source": [
    "# Uncomment to create the table for analysis report Table 1\n",
    "# print(pd.pivot_table(report.loc[report.training_size==80000, ['mean_train_accuracy', 'mean_test_accuracy', 'param_criterion', 'param_max_depth']],\n",
    "#                values=['mean_train_accuracy', 'mean_test_accuracy'],\n",
    "#                columns='param_criterion',\n",
    "#                index = 'param_max_depth').to_latex(caption=\"Decision Tree Accuracy on training and validation\",\n",
    "#                                                   float_format=\"%.4f\"))"
   ]
  },
  {
   "cell_type": "code",
   "execution_count": 9,
   "id": "1e12d912",
   "metadata": {
    "scrolled": false
   },
   "outputs": [],
   "source": [
    "# Uncomment to create the Figure 2 for analysis report\n",
    "# fig.show()"
   ]
  },
  {
   "cell_type": "code",
   "execution_count": 10,
   "id": "442d2d32",
   "metadata": {},
   "outputs": [],
   "source": [
    "data = report.loc[(report.param_criterion=='gini')&(report.param_max_depth==200)].reset_index(drop=True)\n",
    "fig = plot_problem1_trainingsize(data, \"decisiontree\")"
   ]
  },
  {
   "cell_type": "code",
   "execution_count": 11,
   "id": "32c56dc0",
   "metadata": {
    "scrolled": false
   },
   "outputs": [],
   "source": [
    "# Uncomment to create the Figure 3 for analysis report\n",
    "# fig.show()"
   ]
  },
  {
   "cell_type": "markdown",
   "id": "35e6760e",
   "metadata": {},
   "source": [
    "# 2. SVM"
   ]
  },
  {
   "cell_type": "code",
   "execution_count": 12,
   "id": "44b367a9",
   "metadata": {},
   "outputs": [],
   "source": [
    "cfg = get_config(overrides=['experiments=problem1/svm'])\n",
    "cv_results_dt = loader(os.path.join(PROJECT_PATH, cfg['artifacts']['hyperparameter_study']['name']), 'pickle')\n",
    "report = pd.concat([pd.DataFrame(d) for k,d in cv_results_dt.items()], ignore_index=True)"
   ]
  },
  {
   "cell_type": "markdown",
   "id": "27aaf1dc",
   "metadata": {},
   "source": [
    "## 2.1 Kernel analysis"
   ]
  },
  {
   "cell_type": "code",
   "execution_count": 13,
   "id": "af23e67a",
   "metadata": {},
   "outputs": [],
   "source": [
    "# Uncomment to create the Table 2 for analysis report\n",
    "# print(report.loc[report.training_size==10000, ['mean_train_accuracy', 'mean_test_accuracy', 'param_kernel']].set_index('param_kernel')\\\n",
    "# .to_latex(caption=\"SVM Accuracy on training and validation\",\n",
    "#                                                   float_format=\"%.4f\"))\n"
   ]
  },
  {
   "cell_type": "code",
   "execution_count": null,
   "id": "7f74b652",
   "metadata": {
    "scrolled": false
   },
   "outputs": [
    {
     "name": "stderr",
     "output_type": "stream",
     "text": [
      "/var/folders/f9/35q1dxg13mqbmm0r53w0ymsm0000gp/T/ipykernel_84236/3197972454.py:4: SettingWithCopyWarning:\n",
      "\n",
      "\n",
      "A value is trying to be set on a copy of a slice from a DataFrame.\n",
      "Try using .loc[row_indexer,col_indexer] = value instead\n",
      "\n",
      "See the caveats in the documentation: https://pandas.pydata.org/pandas-docs/stable/user_guide/indexing.html#returning-a-view-versus-a-copy\n",
      "\n"
     ]
    }
   ],
   "source": [
    "from product_matcher.plotter import plot_problem1_hyperparameters, plot_problem1_trainingsize\n",
    "\n",
    "data = report.loc[report.training_size==10000]\n",
    "data['params_str'] = data['params'].astype(str)\n",
    "fig = plot_problem1_hyperparameters(data, \"SVM\")\n",
    "\n",
    "# Uncomment to create the Figure4 for analysis report\n",
    "fig.show()"
   ]
  },
  {
   "cell_type": "code",
   "execution_count": 15,
   "id": "b8cc7147",
   "metadata": {},
   "outputs": [],
   "source": [
    "data = report.loc[(report.param_kernel=='linear')].reset_index(drop=True)\n",
    "fig = plot_problem1_trainingsize(data, \"SVM\")"
   ]
  },
  {
   "cell_type": "code",
   "execution_count": 16,
   "id": "7135349e",
   "metadata": {},
   "outputs": [],
   "source": [
    "# Uncomment to create SVM learning rate plot\n",
    "# fig.show()"
   ]
  },
  {
   "cell_type": "markdown",
   "id": "a3d356f4",
   "metadata": {},
   "source": [
    "# 3. KNN"
   ]
  },
  {
   "cell_type": "code",
   "execution_count": 17,
   "id": "ba1b8a00",
   "metadata": {},
   "outputs": [],
   "source": [
    "cfg = get_config(overrides=['experiments=problem1/knn'])\n",
    "cv_results_dt = loader(os.path.join(PROJECT_PATH, cfg['artifacts']['hyperparameter_study']['name']), 'pickle')\n",
    "report = pd.concat([pd.DataFrame(d) for k,d in cv_results_dt.items()], ignore_index=True)"
   ]
  },
  {
   "cell_type": "code",
   "execution_count": 18,
   "id": "d02c2310",
   "metadata": {
    "scrolled": true
   },
   "outputs": [],
   "source": [
    "# Uncomment to create the TABLE4 for analysis report\n",
    "# print(pd.pivot_table(report.loc[report.training_size==80000, \n",
    "#                                 ['mean_train_accuracy', 'mean_test_accuracy', \n",
    "#                                  'param_weights', 'param_n_neighbors']],\n",
    "#                values=['mean_train_accuracy', 'mean_test_accuracy'],\n",
    "#                columns='param_weights',\n",
    "#                index = 'param_n_neighbors').to_latex(caption=\"KNN Accuracy on training and validation\",\n",
    "#                                                   float_format=\"%.4f\"))"
   ]
  },
  {
   "cell_type": "code",
   "execution_count": 19,
   "id": "270ae050",
   "metadata": {
    "collapsed": true
   },
   "outputs": [
    {
     "name": "stderr",
     "output_type": "stream",
     "text": [
      "/var/folders/f9/35q1dxg13mqbmm0r53w0ymsm0000gp/T/ipykernel_84236/768585.py:4: SettingWithCopyWarning:\n",
      "\n",
      "\n",
      "A value is trying to be set on a copy of a slice from a DataFrame.\n",
      "Try using .loc[row_indexer,col_indexer] = value instead\n",
      "\n",
      "See the caveats in the documentation: https://pandas.pydata.org/pandas-docs/stable/user_guide/indexing.html#returning-a-view-versus-a-copy\n",
      "\n"
     ]
    },
    {
     "data": {
      "application/vnd.plotly.v1+json": {
       "config": {
        "plotlyServerURL": "https://plot.ly"
       },
       "data": [
        {
         "error_y": {
          "array": [
           0.0019301650309360187,
           0.007123345122735027,
           0.001505126308797685,
           0.006356504610991815,
           0.010898021896653726,
           0.0011672741308736427,
           0.0009535271340282735,
           0.0005492747957683853,
           0.0012994353904296641,
           0.0008814768436160184,
           0.0007870979827764589,
           0.06419173581734192,
           0.001545420337565792,
           0.069968984736166
          ],
          "type": "data"
         },
         "name": "mean_fit_time",
         "type": "bar",
         "x": [
          "{'n_neighbors': 1, 'weights': 'uniform'}",
          "{'n_neighbors': 1, 'weights': 'distance'}",
          "{'n_neighbors': 5, 'weights': 'uniform'}",
          "{'n_neighbors': 5, 'weights': 'distance'}",
          "{'n_neighbors': 10, 'weights': 'uniform'}",
          "{'n_neighbors': 10, 'weights': 'distance'}",
          "{'n_neighbors': 15, 'weights': 'uniform'}",
          "{'n_neighbors': 15, 'weights': 'distance'}",
          "{'n_neighbors': 20, 'weights': 'uniform'}",
          "{'n_neighbors': 20, 'weights': 'distance'}",
          "{'n_neighbors': 25, 'weights': 'uniform'}",
          "{'n_neighbors': 25, 'weights': 'distance'}",
          "{'n_neighbors': 30, 'weights': 'uniform'}",
          "{'n_neighbors': 30, 'weights': 'distance'}"
         ],
         "xaxis": "x",
         "y": [
          0.010901308059692383,
          0.015278363227844238,
          0.010261631011962891,
          0.019231438636779785,
          0.015858554840087892,
          0.011205577850341797,
          0.009871435165405274,
          0.009871315956115723,
          0.009566020965576173,
          0.01087937355041504,
          0.009028434753417969,
          0.047103476524353025,
          0.009265398979187012,
          0.05399842262268066
         ],
         "yaxis": "y"
        },
        {
         "error_y": {
          "array": [
           0.42377225086541054,
           1.261394595401441,
           0.8011399503237452,
           0.9877865434581384,
           0.6387530854389191,
           0.28418419570955095,
           0.26485784228804105,
           0.31997157747340366,
           0.41509044799975464,
           0.6544557677396002,
           0.5886089650962905,
           2.11781961540266,
           0.3373286151085184,
           1.5109432343730167
          ],
          "type": "data"
         },
         "name": "mean_score_time",
         "type": "bar",
         "x": [
          "{'n_neighbors': 1, 'weights': 'uniform'}",
          "{'n_neighbors': 1, 'weights': 'distance'}",
          "{'n_neighbors': 5, 'weights': 'uniform'}",
          "{'n_neighbors': 5, 'weights': 'distance'}",
          "{'n_neighbors': 10, 'weights': 'uniform'}",
          "{'n_neighbors': 10, 'weights': 'distance'}",
          "{'n_neighbors': 15, 'weights': 'uniform'}",
          "{'n_neighbors': 15, 'weights': 'distance'}",
          "{'n_neighbors': 20, 'weights': 'uniform'}",
          "{'n_neighbors': 20, 'weights': 'distance'}",
          "{'n_neighbors': 25, 'weights': 'uniform'}",
          "{'n_neighbors': 25, 'weights': 'distance'}",
          "{'n_neighbors': 30, 'weights': 'uniform'}",
          "{'n_neighbors': 30, 'weights': 'distance'}"
         ],
         "xaxis": "x2",
         "y": [
          8.947447061538696,
          9.48306119441986,
          8.860647463798523,
          9.845587038993836,
          9.159999823570251,
          9.10491976737976,
          8.590946578979493,
          8.842891931533813,
          8.635402846336365,
          9.700645542144775,
          9.102986812591553,
          10.177665734291077,
          8.749371981620788,
          9.801520919799804
         ],
         "yaxis": "y2"
        },
        {
         "error_y": {
          "array": [
           0.00011107638346184556,
           0.00011107638346184556,
           0.00042246886071237204,
           0.00018607483062625126,
           0.0002772773269659567,
           8.634600579092545e-05,
           0.0002971832788609704,
           8.634600579092545e-05,
           0.0003241084637838077,
           8.634600579092545e-05,
           0.00039382776519942934,
           8.634600579092545e-05,
           0.00046816887846741614,
           8.634600579092545e-05
          ],
          "type": "data"
         },
         "name": "mean_train_accuracy",
         "type": "bar",
         "x": [
          "{'n_neighbors': 1, 'weights': 'uniform'}",
          "{'n_neighbors': 1, 'weights': 'distance'}",
          "{'n_neighbors': 5, 'weights': 'uniform'}",
          "{'n_neighbors': 5, 'weights': 'distance'}",
          "{'n_neighbors': 10, 'weights': 'uniform'}",
          "{'n_neighbors': 10, 'weights': 'distance'}",
          "{'n_neighbors': 15, 'weights': 'uniform'}",
          "{'n_neighbors': 15, 'weights': 'distance'}",
          "{'n_neighbors': 20, 'weights': 'uniform'}",
          "{'n_neighbors': 20, 'weights': 'distance'}",
          "{'n_neighbors': 25, 'weights': 'uniform'}",
          "{'n_neighbors': 25, 'weights': 'distance'}",
          "{'n_neighbors': 30, 'weights': 'uniform'}",
          "{'n_neighbors': 30, 'weights': 'distance'}"
         ],
         "xaxis": "x3",
         "y": [
          0.9944,
          0.9944,
          0.9435222222222223,
          0.9757069444444445,
          0.9549416666666666,
          0.9948819444444444,
          0.9477138888888887,
          0.9948819444444444,
          0.9460444444444445,
          0.9948819444444444,
          0.9422138888888888,
          0.9948819444444444,
          0.9421444444444445,
          0.9948819444444444
         ],
         "yaxis": "y3"
        },
        {
         "error_y": {
          "array": [
           0.0018778727992065983,
           0.0018778727992065983,
           0.002021176946731786,
           0.0020149829403744235,
           0.0015614996797950259,
           0.0010142731387550224,
           0.0020138582373146444,
           0.0014279027452876525,
           0.00276159487434342,
           0.0016847199322142488,
           0.0017949582167839026,
           0.0017376348868505282,
           0.0018695336985462354,
           0.0018619965762589267
          ],
          "type": "data"
         },
         "name": "mean_test_accuracy",
         "type": "bar",
         "x": [
          "{'n_neighbors': 1, 'weights': 'uniform'}",
          "{'n_neighbors': 1, 'weights': 'distance'}",
          "{'n_neighbors': 5, 'weights': 'uniform'}",
          "{'n_neighbors': 5, 'weights': 'distance'}",
          "{'n_neighbors': 10, 'weights': 'uniform'}",
          "{'n_neighbors': 10, 'weights': 'distance'}",
          "{'n_neighbors': 15, 'weights': 'uniform'}",
          "{'n_neighbors': 15, 'weights': 'distance'}",
          "{'n_neighbors': 20, 'weights': 'uniform'}",
          "{'n_neighbors': 20, 'weights': 'distance'}",
          "{'n_neighbors': 25, 'weights': 'uniform'}",
          "{'n_neighbors': 25, 'weights': 'distance'}",
          "{'n_neighbors': 30, 'weights': 'uniform'}",
          "{'n_neighbors': 30, 'weights': 'distance'}"
         ],
         "xaxis": "x3",
         "y": [
          0.9556125000000002,
          0.9556125000000002,
          0.9300625,
          0.9348125000000002,
          0.9469375,
          0.9530750000000001,
          0.941775,
          0.9492375000000001,
          0.9412375,
          0.9484374999999998,
          0.9375,
          0.9458249999999999,
          0.9383874999999999,
          0.9457374999999999
         ],
         "yaxis": "y3"
        },
        {
         "error_y": {
          "array": [
           0.00011868117654903136,
           0.00011868117654903136,
           0.0004226872631746093,
           0.00018838735871780306,
           0.00029604224011248295,
           9.221700125321516e-05,
           0.00029862795846345686,
           9.221700125321516e-05,
           0.0003175666618290366,
           9.221700125321516e-05,
           0.00039541527230129407,
           9.221700125321516e-05,
           0.00046121705890519077,
           9.221700125321516e-05
          ],
          "type": "data"
         },
         "name": "mean_train_f1",
         "type": "bar",
         "x": [
          "{'n_neighbors': 1, 'weights': 'uniform'}",
          "{'n_neighbors': 1, 'weights': 'distance'}",
          "{'n_neighbors': 5, 'weights': 'uniform'}",
          "{'n_neighbors': 5, 'weights': 'distance'}",
          "{'n_neighbors': 10, 'weights': 'uniform'}",
          "{'n_neighbors': 10, 'weights': 'distance'}",
          "{'n_neighbors': 15, 'weights': 'uniform'}",
          "{'n_neighbors': 15, 'weights': 'distance'}",
          "{'n_neighbors': 20, 'weights': 'uniform'}",
          "{'n_neighbors': 20, 'weights': 'distance'}",
          "{'n_neighbors': 25, 'weights': 'uniform'}",
          "{'n_neighbors': 25, 'weights': 'distance'}",
          "{'n_neighbors': 30, 'weights': 'uniform'}",
          "{'n_neighbors': 30, 'weights': 'distance'}"
         ],
         "xaxis": "x4",
         "y": [
          0.9940423493313609,
          0.9940423493313609,
          0.9427377582898385,
          0.9748986027482432,
          0.9530191885376761,
          0.9945568217419348,
          0.9460753666408623,
          0.9945568217419348,
          0.9442018017272741,
          0.9945568217419348,
          0.9405927816298758,
          0.9945568217419348,
          0.940434216572263,
          0.9945568217419348
         ],
         "yaxis": "y4"
        },
        {
         "error_y": {
          "array": [
           0.0019638467902007056,
           0.0019638467902007056,
           0.0019598112805030354,
           0.001988796990449615,
           0.0015454671938319113,
           0.0010267070098383994,
           0.002057161912933977,
           0.0014864590753126215,
           0.002858533470363659,
           0.0017282847564394706,
           0.0018365546615410802,
           0.0017779049046565921,
           0.0018998115641626222,
           0.001846130762397865
          ],
          "type": "data"
         },
         "name": "mean_test_f1",
         "type": "bar",
         "x": [
          "{'n_neighbors': 1, 'weights': 'uniform'}",
          "{'n_neighbors': 1, 'weights': 'distance'}",
          "{'n_neighbors': 5, 'weights': 'uniform'}",
          "{'n_neighbors': 5, 'weights': 'distance'}",
          "{'n_neighbors': 10, 'weights': 'uniform'}",
          "{'n_neighbors': 10, 'weights': 'distance'}",
          "{'n_neighbors': 15, 'weights': 'uniform'}",
          "{'n_neighbors': 15, 'weights': 'distance'}",
          "{'n_neighbors': 20, 'weights': 'uniform'}",
          "{'n_neighbors': 20, 'weights': 'distance'}",
          "{'n_neighbors': 25, 'weights': 'uniform'}",
          "{'n_neighbors': 25, 'weights': 'distance'}",
          "{'n_neighbors': 30, 'weights': 'uniform'}",
          "{'n_neighbors': 30, 'weights': 'distance'}"
         ],
         "xaxis": "x4",
         "y": [
          0.9534996142758683,
          0.9534996142758683,
          0.9295581677869442,
          0.9341477878609739,
          0.9448399840264485,
          0.9513658396207065,
          0.9401349920690187,
          0.947596124052596,
          0.9393780526355417,
          0.9468038506757719,
          0.9359285618234763,
          0.9442301211954145,
          0.9366804990359514,
          0.9441699157272566
         ],
         "yaxis": "y4"
        },
        {
         "error_y": {
          "array": [
           8.878844122303805e-05,
           8.878844122303805e-05,
           0.0007030082299039141,
           0.00032712884562936155,
           0.0005663816127799301,
           6.084171198916798e-05,
           0.0005474636658718692,
           6.084171198916798e-05,
           0.0006811396829458704,
           6.084171198916798e-05,
           0.0007331878629714062,
           6.084171198916798e-05,
           0.0010276881651576236,
           6.084171198916798e-05
          ],
          "type": "data"
         },
         "name": "mean_train_precision",
         "type": "bar",
         "x": [
          "{'n_neighbors': 1, 'weights': 'uniform'}",
          "{'n_neighbors': 1, 'weights': 'distance'}",
          "{'n_neighbors': 5, 'weights': 'uniform'}",
          "{'n_neighbors': 5, 'weights': 'distance'}",
          "{'n_neighbors': 10, 'weights': 'uniform'}",
          "{'n_neighbors': 10, 'weights': 'distance'}",
          "{'n_neighbors': 15, 'weights': 'uniform'}",
          "{'n_neighbors': 15, 'weights': 'distance'}",
          "{'n_neighbors': 20, 'weights': 'uniform'}",
          "{'n_neighbors': 20, 'weights': 'distance'}",
          "{'n_neighbors': 25, 'weights': 'uniform'}",
          "{'n_neighbors': 25, 'weights': 'distance'}",
          "{'n_neighbors': 30, 'weights': 'uniform'}",
          "{'n_neighbors': 30, 'weights': 'distance'}"
         ],
         "xaxis": "x5",
         "y": [
          0.9987766743283778,
          0.9987766743283778,
          0.9043430710774046,
          0.9519114325887754,
          0.938676100227755,
          0.9989703354474907,
          0.922120644508686,
          0.9989703354474907,
          0.9226851962774777,
          0.9989703354474907,
          0.9140143119226668,
          0.9989703354474907,
          0.9151277421115518,
          0.9989703354474907
         ],
         "yaxis": "y5"
        },
        {
         "error_y": {
          "array": [
           0.0029774689610021807,
           0.0029774689610021807,
           0.0031620307899069516,
           0.003135898707108017,
           0.0033740047452741626,
           0.002560159470573395,
           0.0026958278085254016,
           0.0022972884048328085,
           0.0034380867176207895,
           0.00277871005339124,
           0.0027576773099065336,
           0.0029368044986810087,
           0.0035517906675111054,
           0.003903954257332671
          ],
          "type": "data"
         },
         "name": "mean_test_precision",
         "type": "bar",
         "x": [
          "{'n_neighbors': 1, 'weights': 'uniform'}",
          "{'n_neighbors': 1, 'weights': 'distance'}",
          "{'n_neighbors': 5, 'weights': 'uniform'}",
          "{'n_neighbors': 5, 'weights': 'distance'}",
          "{'n_neighbors': 10, 'weights': 'uniform'}",
          "{'n_neighbors': 10, 'weights': 'distance'}",
          "{'n_neighbors': 15, 'weights': 'uniform'}",
          "{'n_neighbors': 15, 'weights': 'distance'}",
          "{'n_neighbors': 20, 'weights': 'uniform'}",
          "{'n_neighbors': 20, 'weights': 'distance'}",
          "{'n_neighbors': 25, 'weights': 'uniform'}",
          "{'n_neighbors': 25, 'weights': 'distance'}",
          "{'n_neighbors': 30, 'weights': 'uniform'}",
          "{'n_neighbors': 30, 'weights': 'distance'}"
         ],
         "xaxis": "x5",
         "y": [
          0.9434905357827492,
          0.9434905357827492,
          0.8863688537880717,
          0.8931402411733558,
          0.9279604907465815,
          0.9316551958226995,
          0.9136735743050238,
          0.9244502971532439,
          0.9158512930936714,
          0.9231359391164007,
          0.9070668846333646,
          0.9187305743975689,
          0.909944185518577,
          0.9182456427595662
         ],
         "yaxis": "y5"
        },
        {
         "error_y": {
          "array": [
           0.00021495453130152364,
           0.00021495453130152364,
           0.0007223095907155996,
           8.803738566839469e-05,
           0.0007544944821015072,
           0.00017236591563398945,
           0.00044653389496358934,
           0.00017236591563398945,
           0.0003993312268071286,
           0.00017236591563398945,
           0.0006740650808192034,
           0.00017236591563398945,
           0.0008504974746957638,
           0.00017236591563398945
          ],
          "type": "data"
         },
         "name": "mean_train_recall",
         "type": "bar",
         "x": [
          "{'n_neighbors': 1, 'weights': 'uniform'}",
          "{'n_neighbors': 1, 'weights': 'distance'}",
          "{'n_neighbors': 5, 'weights': 'uniform'}",
          "{'n_neighbors': 5, 'weights': 'distance'}",
          "{'n_neighbors': 10, 'weights': 'uniform'}",
          "{'n_neighbors': 10, 'weights': 'distance'}",
          "{'n_neighbors': 15, 'weights': 'uniform'}",
          "{'n_neighbors': 15, 'weights': 'distance'}",
          "{'n_neighbors': 20, 'weights': 'uniform'}",
          "{'n_neighbors': 20, 'weights': 'distance'}",
          "{'n_neighbors': 25, 'weights': 'uniform'}",
          "{'n_neighbors': 25, 'weights': 'distance'}",
          "{'n_neighbors': 30, 'weights': 'uniform'}",
          "{'n_neighbors': 30, 'weights': 'distance'}"
         ],
         "xaxis": "x6",
         "y": [
          0.9893527215333323,
          0.9893527215333323,
          0.9845379202329481,
          0.9990235096014934,
          0.967808168838876,
          0.9901821515511701,
          0.9713082351903084,
          0.9901821515511701,
          0.9667463755854412,
          0.9901821515511701,
          0.9687640652925777,
          0.9901821515511701,
          0.9671816800840164,
          0.9901821515511701
         ],
         "yaxis": "y6"
        },
        {
         "error_y": {
          "array": [
           0.0030633283146161085,
           0.0030633283146161085,
           0.0022769039222381338,
           0.0028130486713813622,
           0.002227483857377667,
           0.0025399900484931737,
           0.0026638199547304644,
           0.002854212235457812,
           0.003985376525523228,
           0.0029196848741213943,
           0.0031176969109209854,
           0.003168286052109319,
           0.0038028255570628808,
           0.0033194246728681697
          ],
          "type": "data"
         },
         "name": "mean_test_recall",
         "type": "bar",
         "x": [
          "{'n_neighbors': 1, 'weights': 'uniform'}",
          "{'n_neighbors': 1, 'weights': 'distance'}",
          "{'n_neighbors': 5, 'weights': 'uniform'}",
          "{'n_neighbors': 5, 'weights': 'distance'}",
          "{'n_neighbors': 10, 'weights': 'uniform'}",
          "{'n_neighbors': 10, 'weights': 'distance'}",
          "{'n_neighbors': 15, 'weights': 'uniform'}",
          "{'n_neighbors': 15, 'weights': 'distance'}",
          "{'n_neighbors': 20, 'weights': 'uniform'}",
          "{'n_neighbors': 20, 'weights': 'distance'}",
          "{'n_neighbors': 25, 'weights': 'uniform'}",
          "{'n_neighbors': 25, 'weights': 'distance'}",
          "{'n_neighbors': 30, 'weights': 'uniform'}",
          "{'n_neighbors': 30, 'weights': 'distance'}"
         ],
         "xaxis": "x6",
         "y": [
          0.9637346170217806,
          0.9637346170217806,
          0.9771818379697237,
          0.9791142033928855,
          0.9623580031432063,
          0.971940514268679,
          0.9681815824598272,
          0.9719405282845811,
          0.964157876243228,
          0.9717287199711047,
          0.9666991555278788,
          0.9711993043066803,
          0.9650579354323829,
          0.971622843846171
         ],
         "yaxis": "y6"
        }
       ],
       "layout": {
        "annotations": [
         {
          "font": {
           "size": 16
          },
          "showarrow": false,
          "text": "Fitting Time",
          "x": 0.5,
          "xanchor": "center",
          "xref": "paper",
          "y": 0.9999999999999999,
          "yanchor": "bottom",
          "yref": "paper"
         },
         {
          "font": {
           "size": 16
          },
          "showarrow": false,
          "text": "Scoring Time",
          "x": 0.5,
          "xanchor": "center",
          "xref": "paper",
          "y": 0.8194444444444444,
          "yanchor": "bottom",
          "yref": "paper"
         },
         {
          "font": {
           "size": 16
          },
          "showarrow": false,
          "text": "Accuracy",
          "x": 0.5,
          "xanchor": "center",
          "xref": "paper",
          "y": 0.638888888888889,
          "yanchor": "bottom",
          "yref": "paper"
         },
         {
          "font": {
           "size": 16
          },
          "showarrow": false,
          "text": "F1 score",
          "x": 0.5,
          "xanchor": "center",
          "xref": "paper",
          "y": 0.4583333333333333,
          "yanchor": "bottom",
          "yref": "paper"
         },
         {
          "font": {
           "size": 16
          },
          "showarrow": false,
          "text": "Precision",
          "x": 0.5,
          "xanchor": "center",
          "xref": "paper",
          "y": 0.2777777777777778,
          "yanchor": "bottom",
          "yref": "paper"
         },
         {
          "font": {
           "size": 16
          },
          "showarrow": false,
          "text": "Recall",
          "x": 0.5,
          "xanchor": "center",
          "xref": "paper",
          "y": 0.09722222222222222,
          "yanchor": "bottom",
          "yref": "paper"
         }
        ],
        "barmode": "group",
        "height": 1000,
        "template": {
         "data": {
          "bar": [
           {
            "error_x": {
             "color": "#2a3f5f"
            },
            "error_y": {
             "color": "#2a3f5f"
            },
            "marker": {
             "line": {
              "color": "#E5ECF6",
              "width": 0.5
             },
             "pattern": {
              "fillmode": "overlay",
              "size": 10,
              "solidity": 0.2
             }
            },
            "type": "bar"
           }
          ],
          "barpolar": [
           {
            "marker": {
             "line": {
              "color": "#E5ECF6",
              "width": 0.5
             },
             "pattern": {
              "fillmode": "overlay",
              "size": 10,
              "solidity": 0.2
             }
            },
            "type": "barpolar"
           }
          ],
          "carpet": [
           {
            "aaxis": {
             "endlinecolor": "#2a3f5f",
             "gridcolor": "white",
             "linecolor": "white",
             "minorgridcolor": "white",
             "startlinecolor": "#2a3f5f"
            },
            "baxis": {
             "endlinecolor": "#2a3f5f",
             "gridcolor": "white",
             "linecolor": "white",
             "minorgridcolor": "white",
             "startlinecolor": "#2a3f5f"
            },
            "type": "carpet"
           }
          ],
          "choropleth": [
           {
            "colorbar": {
             "outlinewidth": 0,
             "ticks": ""
            },
            "type": "choropleth"
           }
          ],
          "contour": [
           {
            "colorbar": {
             "outlinewidth": 0,
             "ticks": ""
            },
            "colorscale": [
             [
              0,
              "#0d0887"
             ],
             [
              0.1111111111111111,
              "#46039f"
             ],
             [
              0.2222222222222222,
              "#7201a8"
             ],
             [
              0.3333333333333333,
              "#9c179e"
             ],
             [
              0.4444444444444444,
              "#bd3786"
             ],
             [
              0.5555555555555556,
              "#d8576b"
             ],
             [
              0.6666666666666666,
              "#ed7953"
             ],
             [
              0.7777777777777778,
              "#fb9f3a"
             ],
             [
              0.8888888888888888,
              "#fdca26"
             ],
             [
              1,
              "#f0f921"
             ]
            ],
            "type": "contour"
           }
          ],
          "contourcarpet": [
           {
            "colorbar": {
             "outlinewidth": 0,
             "ticks": ""
            },
            "type": "contourcarpet"
           }
          ],
          "heatmap": [
           {
            "colorbar": {
             "outlinewidth": 0,
             "ticks": ""
            },
            "colorscale": [
             [
              0,
              "#0d0887"
             ],
             [
              0.1111111111111111,
              "#46039f"
             ],
             [
              0.2222222222222222,
              "#7201a8"
             ],
             [
              0.3333333333333333,
              "#9c179e"
             ],
             [
              0.4444444444444444,
              "#bd3786"
             ],
             [
              0.5555555555555556,
              "#d8576b"
             ],
             [
              0.6666666666666666,
              "#ed7953"
             ],
             [
              0.7777777777777778,
              "#fb9f3a"
             ],
             [
              0.8888888888888888,
              "#fdca26"
             ],
             [
              1,
              "#f0f921"
             ]
            ],
            "type": "heatmap"
           }
          ],
          "heatmapgl": [
           {
            "colorbar": {
             "outlinewidth": 0,
             "ticks": ""
            },
            "colorscale": [
             [
              0,
              "#0d0887"
             ],
             [
              0.1111111111111111,
              "#46039f"
             ],
             [
              0.2222222222222222,
              "#7201a8"
             ],
             [
              0.3333333333333333,
              "#9c179e"
             ],
             [
              0.4444444444444444,
              "#bd3786"
             ],
             [
              0.5555555555555556,
              "#d8576b"
             ],
             [
              0.6666666666666666,
              "#ed7953"
             ],
             [
              0.7777777777777778,
              "#fb9f3a"
             ],
             [
              0.8888888888888888,
              "#fdca26"
             ],
             [
              1,
              "#f0f921"
             ]
            ],
            "type": "heatmapgl"
           }
          ],
          "histogram": [
           {
            "marker": {
             "pattern": {
              "fillmode": "overlay",
              "size": 10,
              "solidity": 0.2
             }
            },
            "type": "histogram"
           }
          ],
          "histogram2d": [
           {
            "colorbar": {
             "outlinewidth": 0,
             "ticks": ""
            },
            "colorscale": [
             [
              0,
              "#0d0887"
             ],
             [
              0.1111111111111111,
              "#46039f"
             ],
             [
              0.2222222222222222,
              "#7201a8"
             ],
             [
              0.3333333333333333,
              "#9c179e"
             ],
             [
              0.4444444444444444,
              "#bd3786"
             ],
             [
              0.5555555555555556,
              "#d8576b"
             ],
             [
              0.6666666666666666,
              "#ed7953"
             ],
             [
              0.7777777777777778,
              "#fb9f3a"
             ],
             [
              0.8888888888888888,
              "#fdca26"
             ],
             [
              1,
              "#f0f921"
             ]
            ],
            "type": "histogram2d"
           }
          ],
          "histogram2dcontour": [
           {
            "colorbar": {
             "outlinewidth": 0,
             "ticks": ""
            },
            "colorscale": [
             [
              0,
              "#0d0887"
             ],
             [
              0.1111111111111111,
              "#46039f"
             ],
             [
              0.2222222222222222,
              "#7201a8"
             ],
             [
              0.3333333333333333,
              "#9c179e"
             ],
             [
              0.4444444444444444,
              "#bd3786"
             ],
             [
              0.5555555555555556,
              "#d8576b"
             ],
             [
              0.6666666666666666,
              "#ed7953"
             ],
             [
              0.7777777777777778,
              "#fb9f3a"
             ],
             [
              0.8888888888888888,
              "#fdca26"
             ],
             [
              1,
              "#f0f921"
             ]
            ],
            "type": "histogram2dcontour"
           }
          ],
          "mesh3d": [
           {
            "colorbar": {
             "outlinewidth": 0,
             "ticks": ""
            },
            "type": "mesh3d"
           }
          ],
          "parcoords": [
           {
            "line": {
             "colorbar": {
              "outlinewidth": 0,
              "ticks": ""
             }
            },
            "type": "parcoords"
           }
          ],
          "pie": [
           {
            "automargin": true,
            "type": "pie"
           }
          ],
          "scatter": [
           {
            "fillpattern": {
             "fillmode": "overlay",
             "size": 10,
             "solidity": 0.2
            },
            "type": "scatter"
           }
          ],
          "scatter3d": [
           {
            "line": {
             "colorbar": {
              "outlinewidth": 0,
              "ticks": ""
             }
            },
            "marker": {
             "colorbar": {
              "outlinewidth": 0,
              "ticks": ""
             }
            },
            "type": "scatter3d"
           }
          ],
          "scattercarpet": [
           {
            "marker": {
             "colorbar": {
              "outlinewidth": 0,
              "ticks": ""
             }
            },
            "type": "scattercarpet"
           }
          ],
          "scattergeo": [
           {
            "marker": {
             "colorbar": {
              "outlinewidth": 0,
              "ticks": ""
             }
            },
            "type": "scattergeo"
           }
          ],
          "scattergl": [
           {
            "marker": {
             "colorbar": {
              "outlinewidth": 0,
              "ticks": ""
             }
            },
            "type": "scattergl"
           }
          ],
          "scattermapbox": [
           {
            "marker": {
             "colorbar": {
              "outlinewidth": 0,
              "ticks": ""
             }
            },
            "type": "scattermapbox"
           }
          ],
          "scatterpolar": [
           {
            "marker": {
             "colorbar": {
              "outlinewidth": 0,
              "ticks": ""
             }
            },
            "type": "scatterpolar"
           }
          ],
          "scatterpolargl": [
           {
            "marker": {
             "colorbar": {
              "outlinewidth": 0,
              "ticks": ""
             }
            },
            "type": "scatterpolargl"
           }
          ],
          "scatterternary": [
           {
            "marker": {
             "colorbar": {
              "outlinewidth": 0,
              "ticks": ""
             }
            },
            "type": "scatterternary"
           }
          ],
          "surface": [
           {
            "colorbar": {
             "outlinewidth": 0,
             "ticks": ""
            },
            "colorscale": [
             [
              0,
              "#0d0887"
             ],
             [
              0.1111111111111111,
              "#46039f"
             ],
             [
              0.2222222222222222,
              "#7201a8"
             ],
             [
              0.3333333333333333,
              "#9c179e"
             ],
             [
              0.4444444444444444,
              "#bd3786"
             ],
             [
              0.5555555555555556,
              "#d8576b"
             ],
             [
              0.6666666666666666,
              "#ed7953"
             ],
             [
              0.7777777777777778,
              "#fb9f3a"
             ],
             [
              0.8888888888888888,
              "#fdca26"
             ],
             [
              1,
              "#f0f921"
             ]
            ],
            "type": "surface"
           }
          ],
          "table": [
           {
            "cells": {
             "fill": {
              "color": "#EBF0F8"
             },
             "line": {
              "color": "white"
             }
            },
            "header": {
             "fill": {
              "color": "#C8D4E3"
             },
             "line": {
              "color": "white"
             }
            },
            "type": "table"
           }
          ]
         },
         "layout": {
          "annotationdefaults": {
           "arrowcolor": "#2a3f5f",
           "arrowhead": 0,
           "arrowwidth": 1
          },
          "autotypenumbers": "strict",
          "coloraxis": {
           "colorbar": {
            "outlinewidth": 0,
            "ticks": ""
           }
          },
          "colorscale": {
           "diverging": [
            [
             0,
             "#8e0152"
            ],
            [
             0.1,
             "#c51b7d"
            ],
            [
             0.2,
             "#de77ae"
            ],
            [
             0.3,
             "#f1b6da"
            ],
            [
             0.4,
             "#fde0ef"
            ],
            [
             0.5,
             "#f7f7f7"
            ],
            [
             0.6,
             "#e6f5d0"
            ],
            [
             0.7,
             "#b8e186"
            ],
            [
             0.8,
             "#7fbc41"
            ],
            [
             0.9,
             "#4d9221"
            ],
            [
             1,
             "#276419"
            ]
           ],
           "sequential": [
            [
             0,
             "#0d0887"
            ],
            [
             0.1111111111111111,
             "#46039f"
            ],
            [
             0.2222222222222222,
             "#7201a8"
            ],
            [
             0.3333333333333333,
             "#9c179e"
            ],
            [
             0.4444444444444444,
             "#bd3786"
            ],
            [
             0.5555555555555556,
             "#d8576b"
            ],
            [
             0.6666666666666666,
             "#ed7953"
            ],
            [
             0.7777777777777778,
             "#fb9f3a"
            ],
            [
             0.8888888888888888,
             "#fdca26"
            ],
            [
             1,
             "#f0f921"
            ]
           ],
           "sequentialminus": [
            [
             0,
             "#0d0887"
            ],
            [
             0.1111111111111111,
             "#46039f"
            ],
            [
             0.2222222222222222,
             "#7201a8"
            ],
            [
             0.3333333333333333,
             "#9c179e"
            ],
            [
             0.4444444444444444,
             "#bd3786"
            ],
            [
             0.5555555555555556,
             "#d8576b"
            ],
            [
             0.6666666666666666,
             "#ed7953"
            ],
            [
             0.7777777777777778,
             "#fb9f3a"
            ],
            [
             0.8888888888888888,
             "#fdca26"
            ],
            [
             1,
             "#f0f921"
            ]
           ]
          },
          "colorway": [
           "#636efa",
           "#EF553B",
           "#00cc96",
           "#ab63fa",
           "#FFA15A",
           "#19d3f3",
           "#FF6692",
           "#B6E880",
           "#FF97FF",
           "#FECB52"
          ],
          "font": {
           "color": "#2a3f5f"
          },
          "geo": {
           "bgcolor": "white",
           "lakecolor": "white",
           "landcolor": "#E5ECF6",
           "showlakes": true,
           "showland": true,
           "subunitcolor": "white"
          },
          "hoverlabel": {
           "align": "left"
          },
          "hovermode": "closest",
          "mapbox": {
           "style": "light"
          },
          "paper_bgcolor": "white",
          "plot_bgcolor": "#E5ECF6",
          "polar": {
           "angularaxis": {
            "gridcolor": "white",
            "linecolor": "white",
            "ticks": ""
           },
           "bgcolor": "#E5ECF6",
           "radialaxis": {
            "gridcolor": "white",
            "linecolor": "white",
            "ticks": ""
           }
          },
          "scene": {
           "xaxis": {
            "backgroundcolor": "#E5ECF6",
            "gridcolor": "white",
            "gridwidth": 2,
            "linecolor": "white",
            "showbackground": true,
            "ticks": "",
            "zerolinecolor": "white"
           },
           "yaxis": {
            "backgroundcolor": "#E5ECF6",
            "gridcolor": "white",
            "gridwidth": 2,
            "linecolor": "white",
            "showbackground": true,
            "ticks": "",
            "zerolinecolor": "white"
           },
           "zaxis": {
            "backgroundcolor": "#E5ECF6",
            "gridcolor": "white",
            "gridwidth": 2,
            "linecolor": "white",
            "showbackground": true,
            "ticks": "",
            "zerolinecolor": "white"
           }
          },
          "shapedefaults": {
           "line": {
            "color": "#2a3f5f"
           }
          },
          "ternary": {
           "aaxis": {
            "gridcolor": "white",
            "linecolor": "white",
            "ticks": ""
           },
           "baxis": {
            "gridcolor": "white",
            "linecolor": "white",
            "ticks": ""
           },
           "bgcolor": "#E5ECF6",
           "caxis": {
            "gridcolor": "white",
            "linecolor": "white",
            "ticks": ""
           }
          },
          "title": {
           "x": 0.05
          },
          "xaxis": {
           "automargin": true,
           "gridcolor": "white",
           "linecolor": "white",
           "ticks": "",
           "title": {
            "standoff": 15
           },
           "zerolinecolor": "white",
           "zerolinewidth": 2
          },
          "yaxis": {
           "automargin": true,
           "gridcolor": "white",
           "linecolor": "white",
           "ticks": "",
           "title": {
            "standoff": 15
           },
           "zerolinecolor": "white",
           "zerolinewidth": 2
          }
         }
        },
        "title": {
         "text": "KNN hyper-parameters searching result"
        },
        "xaxis": {
         "anchor": "y",
         "domain": [
          0,
          1
         ],
         "matches": "x6",
         "showticklabels": false
        },
        "xaxis2": {
         "anchor": "y2",
         "domain": [
          0,
          1
         ],
         "matches": "x6",
         "showticklabels": false
        },
        "xaxis3": {
         "anchor": "y3",
         "domain": [
          0,
          1
         ],
         "matches": "x6",
         "showticklabels": false
        },
        "xaxis4": {
         "anchor": "y4",
         "domain": [
          0,
          1
         ],
         "matches": "x6",
         "showticklabels": false
        },
        "xaxis5": {
         "anchor": "y5",
         "domain": [
          0,
          1
         ],
         "matches": "x6",
         "showticklabels": false
        },
        "xaxis6": {
         "anchor": "y6",
         "domain": [
          0,
          1
         ]
        },
        "yaxis": {
         "anchor": "x",
         "domain": [
          0.9027777777777777,
          0.9999999999999999
         ]
        },
        "yaxis2": {
         "anchor": "x2",
         "domain": [
          0.7222222222222222,
          0.8194444444444444
         ]
        },
        "yaxis3": {
         "anchor": "x3",
         "domain": [
          0.5416666666666667,
          0.638888888888889
         ]
        },
        "yaxis4": {
         "anchor": "x4",
         "domain": [
          0.3611111111111111,
          0.4583333333333333
         ]
        },
        "yaxis5": {
         "anchor": "x5",
         "domain": [
          0.18055555555555555,
          0.2777777777777778
         ]
        },
        "yaxis6": {
         "anchor": "x6",
         "domain": [
          0,
          0.09722222222222222
         ]
        }
       }
      },
      "text/html": [
       "<div>                            <div id=\"23ad8e1f-790f-4757-8a83-2330da0e8fbf\" class=\"plotly-graph-div\" style=\"height:1000px; width:100%;\"></div>            <script type=\"text/javascript\">                require([\"plotly\"], function(Plotly) {                    window.PLOTLYENV=window.PLOTLYENV || {};                                    if (document.getElementById(\"23ad8e1f-790f-4757-8a83-2330da0e8fbf\")) {                    Plotly.newPlot(                        \"23ad8e1f-790f-4757-8a83-2330da0e8fbf\",                        [{\"error_y\":{\"array\":[0.0019301650309360187,0.007123345122735027,0.001505126308797685,0.006356504610991815,0.010898021896653726,0.0011672741308736427,0.0009535271340282735,0.0005492747957683853,0.0012994353904296641,0.0008814768436160184,0.0007870979827764589,0.06419173581734192,0.001545420337565792,0.069968984736166],\"type\":\"data\"},\"name\":\"mean_fit_time\",\"x\":[\"{'n_neighbors': 1, 'weights': 'uniform'}\",\"{'n_neighbors': 1, 'weights': 'distance'}\",\"{'n_neighbors': 5, 'weights': 'uniform'}\",\"{'n_neighbors': 5, 'weights': 'distance'}\",\"{'n_neighbors': 10, 'weights': 'uniform'}\",\"{'n_neighbors': 10, 'weights': 'distance'}\",\"{'n_neighbors': 15, 'weights': 'uniform'}\",\"{'n_neighbors': 15, 'weights': 'distance'}\",\"{'n_neighbors': 20, 'weights': 'uniform'}\",\"{'n_neighbors': 20, 'weights': 'distance'}\",\"{'n_neighbors': 25, 'weights': 'uniform'}\",\"{'n_neighbors': 25, 'weights': 'distance'}\",\"{'n_neighbors': 30, 'weights': 'uniform'}\",\"{'n_neighbors': 30, 'weights': 'distance'}\"],\"y\":[0.010901308059692383,0.015278363227844238,0.010261631011962891,0.019231438636779785,0.015858554840087892,0.011205577850341797,0.009871435165405274,0.009871315956115723,0.009566020965576173,0.01087937355041504,0.009028434753417969,0.047103476524353025,0.009265398979187012,0.05399842262268066],\"type\":\"bar\",\"xaxis\":\"x\",\"yaxis\":\"y\"},{\"error_y\":{\"array\":[0.42377225086541054,1.261394595401441,0.8011399503237452,0.9877865434581384,0.6387530854389191,0.28418419570955095,0.26485784228804105,0.31997157747340366,0.41509044799975464,0.6544557677396002,0.5886089650962905,2.11781961540266,0.3373286151085184,1.5109432343730167],\"type\":\"data\"},\"name\":\"mean_score_time\",\"x\":[\"{'n_neighbors': 1, 'weights': 'uniform'}\",\"{'n_neighbors': 1, 'weights': 'distance'}\",\"{'n_neighbors': 5, 'weights': 'uniform'}\",\"{'n_neighbors': 5, 'weights': 'distance'}\",\"{'n_neighbors': 10, 'weights': 'uniform'}\",\"{'n_neighbors': 10, 'weights': 'distance'}\",\"{'n_neighbors': 15, 'weights': 'uniform'}\",\"{'n_neighbors': 15, 'weights': 'distance'}\",\"{'n_neighbors': 20, 'weights': 'uniform'}\",\"{'n_neighbors': 20, 'weights': 'distance'}\",\"{'n_neighbors': 25, 'weights': 'uniform'}\",\"{'n_neighbors': 25, 'weights': 'distance'}\",\"{'n_neighbors': 30, 'weights': 'uniform'}\",\"{'n_neighbors': 30, 'weights': 'distance'}\"],\"y\":[8.947447061538696,9.48306119441986,8.860647463798523,9.845587038993836,9.159999823570251,9.10491976737976,8.590946578979493,8.842891931533813,8.635402846336365,9.700645542144775,9.102986812591553,10.177665734291077,8.749371981620788,9.801520919799804],\"type\":\"bar\",\"xaxis\":\"x2\",\"yaxis\":\"y2\"},{\"error_y\":{\"array\":[0.00011107638346184556,0.00011107638346184556,0.00042246886071237204,0.00018607483062625126,0.0002772773269659567,8.634600579092545e-05,0.0002971832788609704,8.634600579092545e-05,0.0003241084637838077,8.634600579092545e-05,0.00039382776519942934,8.634600579092545e-05,0.00046816887846741614,8.634600579092545e-05],\"type\":\"data\"},\"name\":\"mean_train_accuracy\",\"x\":[\"{'n_neighbors': 1, 'weights': 'uniform'}\",\"{'n_neighbors': 1, 'weights': 'distance'}\",\"{'n_neighbors': 5, 'weights': 'uniform'}\",\"{'n_neighbors': 5, 'weights': 'distance'}\",\"{'n_neighbors': 10, 'weights': 'uniform'}\",\"{'n_neighbors': 10, 'weights': 'distance'}\",\"{'n_neighbors': 15, 'weights': 'uniform'}\",\"{'n_neighbors': 15, 'weights': 'distance'}\",\"{'n_neighbors': 20, 'weights': 'uniform'}\",\"{'n_neighbors': 20, 'weights': 'distance'}\",\"{'n_neighbors': 25, 'weights': 'uniform'}\",\"{'n_neighbors': 25, 'weights': 'distance'}\",\"{'n_neighbors': 30, 'weights': 'uniform'}\",\"{'n_neighbors': 30, 'weights': 'distance'}\"],\"y\":[0.9944,0.9944,0.9435222222222223,0.9757069444444445,0.9549416666666666,0.9948819444444444,0.9477138888888887,0.9948819444444444,0.9460444444444445,0.9948819444444444,0.9422138888888888,0.9948819444444444,0.9421444444444445,0.9948819444444444],\"type\":\"bar\",\"xaxis\":\"x3\",\"yaxis\":\"y3\"},{\"error_y\":{\"array\":[0.0018778727992065983,0.0018778727992065983,0.002021176946731786,0.0020149829403744235,0.0015614996797950259,0.0010142731387550224,0.0020138582373146444,0.0014279027452876525,0.00276159487434342,0.0016847199322142488,0.0017949582167839026,0.0017376348868505282,0.0018695336985462354,0.0018619965762589267],\"type\":\"data\"},\"name\":\"mean_test_accuracy\",\"x\":[\"{'n_neighbors': 1, 'weights': 'uniform'}\",\"{'n_neighbors': 1, 'weights': 'distance'}\",\"{'n_neighbors': 5, 'weights': 'uniform'}\",\"{'n_neighbors': 5, 'weights': 'distance'}\",\"{'n_neighbors': 10, 'weights': 'uniform'}\",\"{'n_neighbors': 10, 'weights': 'distance'}\",\"{'n_neighbors': 15, 'weights': 'uniform'}\",\"{'n_neighbors': 15, 'weights': 'distance'}\",\"{'n_neighbors': 20, 'weights': 'uniform'}\",\"{'n_neighbors': 20, 'weights': 'distance'}\",\"{'n_neighbors': 25, 'weights': 'uniform'}\",\"{'n_neighbors': 25, 'weights': 'distance'}\",\"{'n_neighbors': 30, 'weights': 'uniform'}\",\"{'n_neighbors': 30, 'weights': 'distance'}\"],\"y\":[0.9556125000000002,0.9556125000000002,0.9300625,0.9348125000000002,0.9469375,0.9530750000000001,0.941775,0.9492375000000001,0.9412375,0.9484374999999998,0.9375,0.9458249999999999,0.9383874999999999,0.9457374999999999],\"type\":\"bar\",\"xaxis\":\"x3\",\"yaxis\":\"y3\"},{\"error_y\":{\"array\":[0.00011868117654903136,0.00011868117654903136,0.0004226872631746093,0.00018838735871780306,0.00029604224011248295,9.221700125321516e-05,0.00029862795846345686,9.221700125321516e-05,0.0003175666618290366,9.221700125321516e-05,0.00039541527230129407,9.221700125321516e-05,0.00046121705890519077,9.221700125321516e-05],\"type\":\"data\"},\"name\":\"mean_train_f1\",\"x\":[\"{'n_neighbors': 1, 'weights': 'uniform'}\",\"{'n_neighbors': 1, 'weights': 'distance'}\",\"{'n_neighbors': 5, 'weights': 'uniform'}\",\"{'n_neighbors': 5, 'weights': 'distance'}\",\"{'n_neighbors': 10, 'weights': 'uniform'}\",\"{'n_neighbors': 10, 'weights': 'distance'}\",\"{'n_neighbors': 15, 'weights': 'uniform'}\",\"{'n_neighbors': 15, 'weights': 'distance'}\",\"{'n_neighbors': 20, 'weights': 'uniform'}\",\"{'n_neighbors': 20, 'weights': 'distance'}\",\"{'n_neighbors': 25, 'weights': 'uniform'}\",\"{'n_neighbors': 25, 'weights': 'distance'}\",\"{'n_neighbors': 30, 'weights': 'uniform'}\",\"{'n_neighbors': 30, 'weights': 'distance'}\"],\"y\":[0.9940423493313609,0.9940423493313609,0.9427377582898385,0.9748986027482432,0.9530191885376761,0.9945568217419348,0.9460753666408623,0.9945568217419348,0.9442018017272741,0.9945568217419348,0.9405927816298758,0.9945568217419348,0.940434216572263,0.9945568217419348],\"type\":\"bar\",\"xaxis\":\"x4\",\"yaxis\":\"y4\"},{\"error_y\":{\"array\":[0.0019638467902007056,0.0019638467902007056,0.0019598112805030354,0.001988796990449615,0.0015454671938319113,0.0010267070098383994,0.002057161912933977,0.0014864590753126215,0.002858533470363659,0.0017282847564394706,0.0018365546615410802,0.0017779049046565921,0.0018998115641626222,0.001846130762397865],\"type\":\"data\"},\"name\":\"mean_test_f1\",\"x\":[\"{'n_neighbors': 1, 'weights': 'uniform'}\",\"{'n_neighbors': 1, 'weights': 'distance'}\",\"{'n_neighbors': 5, 'weights': 'uniform'}\",\"{'n_neighbors': 5, 'weights': 'distance'}\",\"{'n_neighbors': 10, 'weights': 'uniform'}\",\"{'n_neighbors': 10, 'weights': 'distance'}\",\"{'n_neighbors': 15, 'weights': 'uniform'}\",\"{'n_neighbors': 15, 'weights': 'distance'}\",\"{'n_neighbors': 20, 'weights': 'uniform'}\",\"{'n_neighbors': 20, 'weights': 'distance'}\",\"{'n_neighbors': 25, 'weights': 'uniform'}\",\"{'n_neighbors': 25, 'weights': 'distance'}\",\"{'n_neighbors': 30, 'weights': 'uniform'}\",\"{'n_neighbors': 30, 'weights': 'distance'}\"],\"y\":[0.9534996142758683,0.9534996142758683,0.9295581677869442,0.9341477878609739,0.9448399840264485,0.9513658396207065,0.9401349920690187,0.947596124052596,0.9393780526355417,0.9468038506757719,0.9359285618234763,0.9442301211954145,0.9366804990359514,0.9441699157272566],\"type\":\"bar\",\"xaxis\":\"x4\",\"yaxis\":\"y4\"},{\"error_y\":{\"array\":[8.878844122303805e-05,8.878844122303805e-05,0.0007030082299039141,0.00032712884562936155,0.0005663816127799301,6.084171198916798e-05,0.0005474636658718692,6.084171198916798e-05,0.0006811396829458704,6.084171198916798e-05,0.0007331878629714062,6.084171198916798e-05,0.0010276881651576236,6.084171198916798e-05],\"type\":\"data\"},\"name\":\"mean_train_precision\",\"x\":[\"{'n_neighbors': 1, 'weights': 'uniform'}\",\"{'n_neighbors': 1, 'weights': 'distance'}\",\"{'n_neighbors': 5, 'weights': 'uniform'}\",\"{'n_neighbors': 5, 'weights': 'distance'}\",\"{'n_neighbors': 10, 'weights': 'uniform'}\",\"{'n_neighbors': 10, 'weights': 'distance'}\",\"{'n_neighbors': 15, 'weights': 'uniform'}\",\"{'n_neighbors': 15, 'weights': 'distance'}\",\"{'n_neighbors': 20, 'weights': 'uniform'}\",\"{'n_neighbors': 20, 'weights': 'distance'}\",\"{'n_neighbors': 25, 'weights': 'uniform'}\",\"{'n_neighbors': 25, 'weights': 'distance'}\",\"{'n_neighbors': 30, 'weights': 'uniform'}\",\"{'n_neighbors': 30, 'weights': 'distance'}\"],\"y\":[0.9987766743283778,0.9987766743283778,0.9043430710774046,0.9519114325887754,0.938676100227755,0.9989703354474907,0.922120644508686,0.9989703354474907,0.9226851962774777,0.9989703354474907,0.9140143119226668,0.9989703354474907,0.9151277421115518,0.9989703354474907],\"type\":\"bar\",\"xaxis\":\"x5\",\"yaxis\":\"y5\"},{\"error_y\":{\"array\":[0.0029774689610021807,0.0029774689610021807,0.0031620307899069516,0.003135898707108017,0.0033740047452741626,0.002560159470573395,0.0026958278085254016,0.0022972884048328085,0.0034380867176207895,0.00277871005339124,0.0027576773099065336,0.0029368044986810087,0.0035517906675111054,0.003903954257332671],\"type\":\"data\"},\"name\":\"mean_test_precision\",\"x\":[\"{'n_neighbors': 1, 'weights': 'uniform'}\",\"{'n_neighbors': 1, 'weights': 'distance'}\",\"{'n_neighbors': 5, 'weights': 'uniform'}\",\"{'n_neighbors': 5, 'weights': 'distance'}\",\"{'n_neighbors': 10, 'weights': 'uniform'}\",\"{'n_neighbors': 10, 'weights': 'distance'}\",\"{'n_neighbors': 15, 'weights': 'uniform'}\",\"{'n_neighbors': 15, 'weights': 'distance'}\",\"{'n_neighbors': 20, 'weights': 'uniform'}\",\"{'n_neighbors': 20, 'weights': 'distance'}\",\"{'n_neighbors': 25, 'weights': 'uniform'}\",\"{'n_neighbors': 25, 'weights': 'distance'}\",\"{'n_neighbors': 30, 'weights': 'uniform'}\",\"{'n_neighbors': 30, 'weights': 'distance'}\"],\"y\":[0.9434905357827492,0.9434905357827492,0.8863688537880717,0.8931402411733558,0.9279604907465815,0.9316551958226995,0.9136735743050238,0.9244502971532439,0.9158512930936714,0.9231359391164007,0.9070668846333646,0.9187305743975689,0.909944185518577,0.9182456427595662],\"type\":\"bar\",\"xaxis\":\"x5\",\"yaxis\":\"y5\"},{\"error_y\":{\"array\":[0.00021495453130152364,0.00021495453130152364,0.0007223095907155996,8.803738566839469e-05,0.0007544944821015072,0.00017236591563398945,0.00044653389496358934,0.00017236591563398945,0.0003993312268071286,0.00017236591563398945,0.0006740650808192034,0.00017236591563398945,0.0008504974746957638,0.00017236591563398945],\"type\":\"data\"},\"name\":\"mean_train_recall\",\"x\":[\"{'n_neighbors': 1, 'weights': 'uniform'}\",\"{'n_neighbors': 1, 'weights': 'distance'}\",\"{'n_neighbors': 5, 'weights': 'uniform'}\",\"{'n_neighbors': 5, 'weights': 'distance'}\",\"{'n_neighbors': 10, 'weights': 'uniform'}\",\"{'n_neighbors': 10, 'weights': 'distance'}\",\"{'n_neighbors': 15, 'weights': 'uniform'}\",\"{'n_neighbors': 15, 'weights': 'distance'}\",\"{'n_neighbors': 20, 'weights': 'uniform'}\",\"{'n_neighbors': 20, 'weights': 'distance'}\",\"{'n_neighbors': 25, 'weights': 'uniform'}\",\"{'n_neighbors': 25, 'weights': 'distance'}\",\"{'n_neighbors': 30, 'weights': 'uniform'}\",\"{'n_neighbors': 30, 'weights': 'distance'}\"],\"y\":[0.9893527215333323,0.9893527215333323,0.9845379202329481,0.9990235096014934,0.967808168838876,0.9901821515511701,0.9713082351903084,0.9901821515511701,0.9667463755854412,0.9901821515511701,0.9687640652925777,0.9901821515511701,0.9671816800840164,0.9901821515511701],\"type\":\"bar\",\"xaxis\":\"x6\",\"yaxis\":\"y6\"},{\"error_y\":{\"array\":[0.0030633283146161085,0.0030633283146161085,0.0022769039222381338,0.0028130486713813622,0.002227483857377667,0.0025399900484931737,0.0026638199547304644,0.002854212235457812,0.003985376525523228,0.0029196848741213943,0.0031176969109209854,0.003168286052109319,0.0038028255570628808,0.0033194246728681697],\"type\":\"data\"},\"name\":\"mean_test_recall\",\"x\":[\"{'n_neighbors': 1, 'weights': 'uniform'}\",\"{'n_neighbors': 1, 'weights': 'distance'}\",\"{'n_neighbors': 5, 'weights': 'uniform'}\",\"{'n_neighbors': 5, 'weights': 'distance'}\",\"{'n_neighbors': 10, 'weights': 'uniform'}\",\"{'n_neighbors': 10, 'weights': 'distance'}\",\"{'n_neighbors': 15, 'weights': 'uniform'}\",\"{'n_neighbors': 15, 'weights': 'distance'}\",\"{'n_neighbors': 20, 'weights': 'uniform'}\",\"{'n_neighbors': 20, 'weights': 'distance'}\",\"{'n_neighbors': 25, 'weights': 'uniform'}\",\"{'n_neighbors': 25, 'weights': 'distance'}\",\"{'n_neighbors': 30, 'weights': 'uniform'}\",\"{'n_neighbors': 30, 'weights': 'distance'}\"],\"y\":[0.9637346170217806,0.9637346170217806,0.9771818379697237,0.9791142033928855,0.9623580031432063,0.971940514268679,0.9681815824598272,0.9719405282845811,0.964157876243228,0.9717287199711047,0.9666991555278788,0.9711993043066803,0.9650579354323829,0.971622843846171],\"type\":\"bar\",\"xaxis\":\"x6\",\"yaxis\":\"y6\"}],                        {\"template\":{\"data\":{\"histogram2dcontour\":[{\"type\":\"histogram2dcontour\",\"colorbar\":{\"outlinewidth\":0,\"ticks\":\"\"},\"colorscale\":[[0.0,\"#0d0887\"],[0.1111111111111111,\"#46039f\"],[0.2222222222222222,\"#7201a8\"],[0.3333333333333333,\"#9c179e\"],[0.4444444444444444,\"#bd3786\"],[0.5555555555555556,\"#d8576b\"],[0.6666666666666666,\"#ed7953\"],[0.7777777777777778,\"#fb9f3a\"],[0.8888888888888888,\"#fdca26\"],[1.0,\"#f0f921\"]]}],\"choropleth\":[{\"type\":\"choropleth\",\"colorbar\":{\"outlinewidth\":0,\"ticks\":\"\"}}],\"histogram2d\":[{\"type\":\"histogram2d\",\"colorbar\":{\"outlinewidth\":0,\"ticks\":\"\"},\"colorscale\":[[0.0,\"#0d0887\"],[0.1111111111111111,\"#46039f\"],[0.2222222222222222,\"#7201a8\"],[0.3333333333333333,\"#9c179e\"],[0.4444444444444444,\"#bd3786\"],[0.5555555555555556,\"#d8576b\"],[0.6666666666666666,\"#ed7953\"],[0.7777777777777778,\"#fb9f3a\"],[0.8888888888888888,\"#fdca26\"],[1.0,\"#f0f921\"]]}],\"heatmap\":[{\"type\":\"heatmap\",\"colorbar\":{\"outlinewidth\":0,\"ticks\":\"\"},\"colorscale\":[[0.0,\"#0d0887\"],[0.1111111111111111,\"#46039f\"],[0.2222222222222222,\"#7201a8\"],[0.3333333333333333,\"#9c179e\"],[0.4444444444444444,\"#bd3786\"],[0.5555555555555556,\"#d8576b\"],[0.6666666666666666,\"#ed7953\"],[0.7777777777777778,\"#fb9f3a\"],[0.8888888888888888,\"#fdca26\"],[1.0,\"#f0f921\"]]}],\"heatmapgl\":[{\"type\":\"heatmapgl\",\"colorbar\":{\"outlinewidth\":0,\"ticks\":\"\"},\"colorscale\":[[0.0,\"#0d0887\"],[0.1111111111111111,\"#46039f\"],[0.2222222222222222,\"#7201a8\"],[0.3333333333333333,\"#9c179e\"],[0.4444444444444444,\"#bd3786\"],[0.5555555555555556,\"#d8576b\"],[0.6666666666666666,\"#ed7953\"],[0.7777777777777778,\"#fb9f3a\"],[0.8888888888888888,\"#fdca26\"],[1.0,\"#f0f921\"]]}],\"contourcarpet\":[{\"type\":\"contourcarpet\",\"colorbar\":{\"outlinewidth\":0,\"ticks\":\"\"}}],\"contour\":[{\"type\":\"contour\",\"colorbar\":{\"outlinewidth\":0,\"ticks\":\"\"},\"colorscale\":[[0.0,\"#0d0887\"],[0.1111111111111111,\"#46039f\"],[0.2222222222222222,\"#7201a8\"],[0.3333333333333333,\"#9c179e\"],[0.4444444444444444,\"#bd3786\"],[0.5555555555555556,\"#d8576b\"],[0.6666666666666666,\"#ed7953\"],[0.7777777777777778,\"#fb9f3a\"],[0.8888888888888888,\"#fdca26\"],[1.0,\"#f0f921\"]]}],\"surface\":[{\"type\":\"surface\",\"colorbar\":{\"outlinewidth\":0,\"ticks\":\"\"},\"colorscale\":[[0.0,\"#0d0887\"],[0.1111111111111111,\"#46039f\"],[0.2222222222222222,\"#7201a8\"],[0.3333333333333333,\"#9c179e\"],[0.4444444444444444,\"#bd3786\"],[0.5555555555555556,\"#d8576b\"],[0.6666666666666666,\"#ed7953\"],[0.7777777777777778,\"#fb9f3a\"],[0.8888888888888888,\"#fdca26\"],[1.0,\"#f0f921\"]]}],\"mesh3d\":[{\"type\":\"mesh3d\",\"colorbar\":{\"outlinewidth\":0,\"ticks\":\"\"}}],\"scatter\":[{\"fillpattern\":{\"fillmode\":\"overlay\",\"size\":10,\"solidity\":0.2},\"type\":\"scatter\"}],\"parcoords\":[{\"type\":\"parcoords\",\"line\":{\"colorbar\":{\"outlinewidth\":0,\"ticks\":\"\"}}}],\"scatterpolargl\":[{\"type\":\"scatterpolargl\",\"marker\":{\"colorbar\":{\"outlinewidth\":0,\"ticks\":\"\"}}}],\"bar\":[{\"error_x\":{\"color\":\"#2a3f5f\"},\"error_y\":{\"color\":\"#2a3f5f\"},\"marker\":{\"line\":{\"color\":\"#E5ECF6\",\"width\":0.5},\"pattern\":{\"fillmode\":\"overlay\",\"size\":10,\"solidity\":0.2}},\"type\":\"bar\"}],\"scattergeo\":[{\"type\":\"scattergeo\",\"marker\":{\"colorbar\":{\"outlinewidth\":0,\"ticks\":\"\"}}}],\"scatterpolar\":[{\"type\":\"scatterpolar\",\"marker\":{\"colorbar\":{\"outlinewidth\":0,\"ticks\":\"\"}}}],\"histogram\":[{\"marker\":{\"pattern\":{\"fillmode\":\"overlay\",\"size\":10,\"solidity\":0.2}},\"type\":\"histogram\"}],\"scattergl\":[{\"type\":\"scattergl\",\"marker\":{\"colorbar\":{\"outlinewidth\":0,\"ticks\":\"\"}}}],\"scatter3d\":[{\"type\":\"scatter3d\",\"line\":{\"colorbar\":{\"outlinewidth\":0,\"ticks\":\"\"}},\"marker\":{\"colorbar\":{\"outlinewidth\":0,\"ticks\":\"\"}}}],\"scattermapbox\":[{\"type\":\"scattermapbox\",\"marker\":{\"colorbar\":{\"outlinewidth\":0,\"ticks\":\"\"}}}],\"scatterternary\":[{\"type\":\"scatterternary\",\"marker\":{\"colorbar\":{\"outlinewidth\":0,\"ticks\":\"\"}}}],\"scattercarpet\":[{\"type\":\"scattercarpet\",\"marker\":{\"colorbar\":{\"outlinewidth\":0,\"ticks\":\"\"}}}],\"carpet\":[{\"aaxis\":{\"endlinecolor\":\"#2a3f5f\",\"gridcolor\":\"white\",\"linecolor\":\"white\",\"minorgridcolor\":\"white\",\"startlinecolor\":\"#2a3f5f\"},\"baxis\":{\"endlinecolor\":\"#2a3f5f\",\"gridcolor\":\"white\",\"linecolor\":\"white\",\"minorgridcolor\":\"white\",\"startlinecolor\":\"#2a3f5f\"},\"type\":\"carpet\"}],\"table\":[{\"cells\":{\"fill\":{\"color\":\"#EBF0F8\"},\"line\":{\"color\":\"white\"}},\"header\":{\"fill\":{\"color\":\"#C8D4E3\"},\"line\":{\"color\":\"white\"}},\"type\":\"table\"}],\"barpolar\":[{\"marker\":{\"line\":{\"color\":\"#E5ECF6\",\"width\":0.5},\"pattern\":{\"fillmode\":\"overlay\",\"size\":10,\"solidity\":0.2}},\"type\":\"barpolar\"}],\"pie\":[{\"automargin\":true,\"type\":\"pie\"}]},\"layout\":{\"autotypenumbers\":\"strict\",\"colorway\":[\"#636efa\",\"#EF553B\",\"#00cc96\",\"#ab63fa\",\"#FFA15A\",\"#19d3f3\",\"#FF6692\",\"#B6E880\",\"#FF97FF\",\"#FECB52\"],\"font\":{\"color\":\"#2a3f5f\"},\"hovermode\":\"closest\",\"hoverlabel\":{\"align\":\"left\"},\"paper_bgcolor\":\"white\",\"plot_bgcolor\":\"#E5ECF6\",\"polar\":{\"bgcolor\":\"#E5ECF6\",\"angularaxis\":{\"gridcolor\":\"white\",\"linecolor\":\"white\",\"ticks\":\"\"},\"radialaxis\":{\"gridcolor\":\"white\",\"linecolor\":\"white\",\"ticks\":\"\"}},\"ternary\":{\"bgcolor\":\"#E5ECF6\",\"aaxis\":{\"gridcolor\":\"white\",\"linecolor\":\"white\",\"ticks\":\"\"},\"baxis\":{\"gridcolor\":\"white\",\"linecolor\":\"white\",\"ticks\":\"\"},\"caxis\":{\"gridcolor\":\"white\",\"linecolor\":\"white\",\"ticks\":\"\"}},\"coloraxis\":{\"colorbar\":{\"outlinewidth\":0,\"ticks\":\"\"}},\"colorscale\":{\"sequential\":[[0.0,\"#0d0887\"],[0.1111111111111111,\"#46039f\"],[0.2222222222222222,\"#7201a8\"],[0.3333333333333333,\"#9c179e\"],[0.4444444444444444,\"#bd3786\"],[0.5555555555555556,\"#d8576b\"],[0.6666666666666666,\"#ed7953\"],[0.7777777777777778,\"#fb9f3a\"],[0.8888888888888888,\"#fdca26\"],[1.0,\"#f0f921\"]],\"sequentialminus\":[[0.0,\"#0d0887\"],[0.1111111111111111,\"#46039f\"],[0.2222222222222222,\"#7201a8\"],[0.3333333333333333,\"#9c179e\"],[0.4444444444444444,\"#bd3786\"],[0.5555555555555556,\"#d8576b\"],[0.6666666666666666,\"#ed7953\"],[0.7777777777777778,\"#fb9f3a\"],[0.8888888888888888,\"#fdca26\"],[1.0,\"#f0f921\"]],\"diverging\":[[0,\"#8e0152\"],[0.1,\"#c51b7d\"],[0.2,\"#de77ae\"],[0.3,\"#f1b6da\"],[0.4,\"#fde0ef\"],[0.5,\"#f7f7f7\"],[0.6,\"#e6f5d0\"],[0.7,\"#b8e186\"],[0.8,\"#7fbc41\"],[0.9,\"#4d9221\"],[1,\"#276419\"]]},\"xaxis\":{\"gridcolor\":\"white\",\"linecolor\":\"white\",\"ticks\":\"\",\"title\":{\"standoff\":15},\"zerolinecolor\":\"white\",\"automargin\":true,\"zerolinewidth\":2},\"yaxis\":{\"gridcolor\":\"white\",\"linecolor\":\"white\",\"ticks\":\"\",\"title\":{\"standoff\":15},\"zerolinecolor\":\"white\",\"automargin\":true,\"zerolinewidth\":2},\"scene\":{\"xaxis\":{\"backgroundcolor\":\"#E5ECF6\",\"gridcolor\":\"white\",\"linecolor\":\"white\",\"showbackground\":true,\"ticks\":\"\",\"zerolinecolor\":\"white\",\"gridwidth\":2},\"yaxis\":{\"backgroundcolor\":\"#E5ECF6\",\"gridcolor\":\"white\",\"linecolor\":\"white\",\"showbackground\":true,\"ticks\":\"\",\"zerolinecolor\":\"white\",\"gridwidth\":2},\"zaxis\":{\"backgroundcolor\":\"#E5ECF6\",\"gridcolor\":\"white\",\"linecolor\":\"white\",\"showbackground\":true,\"ticks\":\"\",\"zerolinecolor\":\"white\",\"gridwidth\":2}},\"shapedefaults\":{\"line\":{\"color\":\"#2a3f5f\"}},\"annotationdefaults\":{\"arrowcolor\":\"#2a3f5f\",\"arrowhead\":0,\"arrowwidth\":1},\"geo\":{\"bgcolor\":\"white\",\"landcolor\":\"#E5ECF6\",\"subunitcolor\":\"white\",\"showland\":true,\"showlakes\":true,\"lakecolor\":\"white\"},\"title\":{\"x\":0.05},\"mapbox\":{\"style\":\"light\"}}},\"xaxis\":{\"anchor\":\"y\",\"domain\":[0.0,1.0],\"matches\":\"x6\",\"showticklabels\":false},\"yaxis\":{\"anchor\":\"x\",\"domain\":[0.9027777777777777,0.9999999999999999]},\"xaxis2\":{\"anchor\":\"y2\",\"domain\":[0.0,1.0],\"matches\":\"x6\",\"showticklabels\":false},\"yaxis2\":{\"anchor\":\"x2\",\"domain\":[0.7222222222222222,0.8194444444444444]},\"xaxis3\":{\"anchor\":\"y3\",\"domain\":[0.0,1.0],\"matches\":\"x6\",\"showticklabels\":false},\"yaxis3\":{\"anchor\":\"x3\",\"domain\":[0.5416666666666667,0.638888888888889]},\"xaxis4\":{\"anchor\":\"y4\",\"domain\":[0.0,1.0],\"matches\":\"x6\",\"showticklabels\":false},\"yaxis4\":{\"anchor\":\"x4\",\"domain\":[0.3611111111111111,0.4583333333333333]},\"xaxis5\":{\"anchor\":\"y5\",\"domain\":[0.0,1.0],\"matches\":\"x6\",\"showticklabels\":false},\"yaxis5\":{\"anchor\":\"x5\",\"domain\":[0.18055555555555555,0.2777777777777778]},\"xaxis6\":{\"anchor\":\"y6\",\"domain\":[0.0,1.0]},\"yaxis6\":{\"anchor\":\"x6\",\"domain\":[0.0,0.09722222222222222]},\"annotations\":[{\"font\":{\"size\":16},\"showarrow\":false,\"text\":\"Fitting Time\",\"x\":0.5,\"xanchor\":\"center\",\"xref\":\"paper\",\"y\":0.9999999999999999,\"yanchor\":\"bottom\",\"yref\":\"paper\"},{\"font\":{\"size\":16},\"showarrow\":false,\"text\":\"Scoring Time\",\"x\":0.5,\"xanchor\":\"center\",\"xref\":\"paper\",\"y\":0.8194444444444444,\"yanchor\":\"bottom\",\"yref\":\"paper\"},{\"font\":{\"size\":16},\"showarrow\":false,\"text\":\"Accuracy\",\"x\":0.5,\"xanchor\":\"center\",\"xref\":\"paper\",\"y\":0.638888888888889,\"yanchor\":\"bottom\",\"yref\":\"paper\"},{\"font\":{\"size\":16},\"showarrow\":false,\"text\":\"F1 score\",\"x\":0.5,\"xanchor\":\"center\",\"xref\":\"paper\",\"y\":0.4583333333333333,\"yanchor\":\"bottom\",\"yref\":\"paper\"},{\"font\":{\"size\":16},\"showarrow\":false,\"text\":\"Precision\",\"x\":0.5,\"xanchor\":\"center\",\"xref\":\"paper\",\"y\":0.2777777777777778,\"yanchor\":\"bottom\",\"yref\":\"paper\"},{\"font\":{\"size\":16},\"showarrow\":false,\"text\":\"Recall\",\"x\":0.5,\"xanchor\":\"center\",\"xref\":\"paper\",\"y\":0.09722222222222222,\"yanchor\":\"bottom\",\"yref\":\"paper\"}],\"title\":{\"text\":\"KNN hyper-parameters searching result\"},\"barmode\":\"group\",\"height\":1000},                        {\"responsive\": true}                    ).then(function(){\n",
       "                            \n",
       "var gd = document.getElementById('23ad8e1f-790f-4757-8a83-2330da0e8fbf');\n",
       "var x = new MutationObserver(function (mutations, observer) {{\n",
       "        var display = window.getComputedStyle(gd).display;\n",
       "        if (!display || display === 'none') {{\n",
       "            console.log([gd, 'removed!']);\n",
       "            Plotly.purge(gd);\n",
       "            observer.disconnect();\n",
       "        }}\n",
       "}});\n",
       "\n",
       "// Listen for the removal of the full notebook cells\n",
       "var notebookContainer = gd.closest('#notebook-container');\n",
       "if (notebookContainer) {{\n",
       "    x.observe(notebookContainer, {childList: true});\n",
       "}}\n",
       "\n",
       "// Listen for the clearing of the current output cell\n",
       "var outputEl = gd.closest('.output');\n",
       "if (outputEl) {{\n",
       "    x.observe(outputEl, {childList: true});\n",
       "}}\n",
       "\n",
       "                        })                };                });            </script>        </div>"
      ]
     },
     "metadata": {},
     "output_type": "display_data"
    }
   ],
   "source": [
    "from product_matcher.plotter import plot_problem1_hyperparameters, plot_problem1_trainingsize\n",
    "\n",
    "data = report.loc[report.training_size==80000]\n",
    "data['params_str'] = data['params'].astype(str)\n",
    "fig = plot_problem1_hyperparameters(data, \"KNN\")\n",
    "\n",
    "# Uncomment to create Figure for KNN learning rate\n",
    "# fig.show()"
   ]
  },
  {
   "cell_type": "markdown",
   "id": "95bd7139",
   "metadata": {},
   "source": [
    "- Distance weights in general better than uniform weights"
   ]
  },
  {
   "cell_type": "code",
   "execution_count": 20,
   "id": "5afac9b5",
   "metadata": {},
   "outputs": [],
   "source": [
    "data = report.loc[(report.param_n_neighbors==5) & (report.param_weights=='distance')].reset_index(drop=True)\n",
    "fig = plot_problem1_trainingsize(data, \"KNN\")"
   ]
  },
  {
   "cell_type": "code",
   "execution_count": 21,
   "id": "c274f4fb",
   "metadata": {
    "scrolled": true
   },
   "outputs": [
    {
     "data": {
      "application/vnd.plotly.v1+json": {
       "config": {
        "plotlyServerURL": "https://plot.ly"
       },
       "data": [
        {
         "name": "mean_fit_time",
         "type": "scatter",
         "x": [
          "a",
          "b",
          "c",
          "d",
          "e",
          "f",
          "g",
          "h",
          "i"
         ],
         "xaxis": "x",
         "y": [
          0.0007804155349731446,
          0.0008730411529541016,
          0.0011352062225341796,
          0.0016800403594970704,
          0.0032869577407836914,
          0.002874135971069336,
          0.004789328575134278,
          0.008004713058471679,
          0.019231438636779785
         ],
         "yaxis": "y"
        },
        {
         "name": "mean_score_time",
         "type": "scatter",
         "x": [
          "a",
          "b",
          "c",
          "d",
          "e",
          "f",
          "g",
          "h",
          "i"
         ],
         "xaxis": "x2",
         "y": [
          0.0055617809295654295,
          0.007028841972351074,
          0.01094512939453125,
          0.06278491020202637,
          0.1278697967529297,
          0.21360034942626954,
          1.2955369710922242,
          3.857014799118042,
          9.845587038993836
         ],
         "yaxis": "y2"
        },
        {
         "name": "mean_train_accuracy",
         "type": "scatter",
         "xaxis": "x3",
         "y": [
          0.9800000000000001,
          0.9828888888888889,
          0.985111111111111,
          0.9793111111111111,
          0.9792083333333335,
          0.9789222222222224,
          0.9788851851851852,
          0.9787755555555554,
          0.9757069444444445
         ],
         "yaxis": "y3"
        },
        {
         "name": "mean_test_accuracy",
         "type": "scatter",
         "xaxis": "x3",
         "y": [
          0.73,
          0.826,
          0.8619999999999999,
          0.8914000000000002,
          0.9039999999999999,
          0.9057000000000001,
          0.9250000000000002,
          0.9315,
          0.9348125000000002
         ],
         "yaxis": "y3"
        },
        {
         "name": "mean_train_f1",
         "type": "scatter",
         "xaxis": "x4",
         "y": [
          0.9788348322221758,
          0.9818425784478355,
          0.9828794648501201,
          0.9783971902951496,
          0.9785021097563413,
          0.9781501901321089,
          0.9781175599895585,
          0.9780996834551476,
          0.9748986027482432
         ],
         "yaxis": "y4"
        },
        {
         "name": "mean_test_f1",
         "type": "scatter",
         "xaxis": "x4",
         "y": [
          0.7477505827505828,
          0.8334449935737102,
          0.8523173819694927,
          0.8918838616513739,
          0.9047050513315329,
          0.9062292127351462,
          0.9245735699718647,
          0.9312693768021418,
          0.9341477878609739
         ],
         "yaxis": "y4"
        },
        {
         "name": "mean_train_precision",
         "type": "scatter",
         "xaxis": "x5",
         "y": [
          0.9728764388066715,
          0.966813288894526,
          0.9687359593539273,
          0.9592779253690077,
          0.9594083479099382,
          0.9586170416971592,
          0.9589700015409177,
          0.9589325938600723,
          0.9519114325887754
         ],
         "yaxis": "y5"
        },
        {
         "name": "mean_test_precision",
         "type": "scatter",
         "xaxis": "x5",
         "y": [
          0.6785714285714286,
          0.7539581106388915,
          0.7850921434677579,
          0.8361387168447955,
          0.8535597979668481,
          0.8536919060562088,
          0.8802760036525346,
          0.888524902273851,
          0.8931402411733558
         ],
         "yaxis": "y5"
        },
        {
         "name": "mean_train_recall",
         "type": "scatter",
         "xaxis": "x6",
         "y": [
          0.9857142857142858,
          0.9975961538461539,
          0.9976623376623376,
          0.998433769585486,
          0.9985021336218424,
          0.9986329759874071,
          0.9981865075413066,
          0.9981896588591956,
          0.9990235096014934
         ],
         "yaxis": "y6"
        },
        {
         "name": "mean_test_recall",
         "type": "scatter",
         "xaxis": "x6",
         "y": [
          0.85,
          0.9355072463768117,
          0.9341638981173865,
          0.9559956355701036,
          0.962723541483436,
          0.9660513152686313,
          0.9737156874488433,
          0.9785148890468124,
          0.9791142033928855
         ],
         "yaxis": "y6"
        }
       ],
       "layout": {
        "annotations": [
         {
          "font": {
           "size": 16
          },
          "showarrow": false,
          "text": "Fitting Time",
          "x": 0.5,
          "xanchor": "center",
          "xref": "paper",
          "y": 0.9999999999999999,
          "yanchor": "bottom",
          "yref": "paper"
         },
         {
          "font": {
           "size": 16
          },
          "showarrow": false,
          "text": "Scoring Time",
          "x": 0.5,
          "xanchor": "center",
          "xref": "paper",
          "y": 0.8194444444444444,
          "yanchor": "bottom",
          "yref": "paper"
         },
         {
          "font": {
           "size": 16
          },
          "showarrow": false,
          "text": "Accuracy",
          "x": 0.5,
          "xanchor": "center",
          "xref": "paper",
          "y": 0.638888888888889,
          "yanchor": "bottom",
          "yref": "paper"
         },
         {
          "font": {
           "size": 16
          },
          "showarrow": false,
          "text": "F1 score",
          "x": 0.5,
          "xanchor": "center",
          "xref": "paper",
          "y": 0.4583333333333333,
          "yanchor": "bottom",
          "yref": "paper"
         },
         {
          "font": {
           "size": 16
          },
          "showarrow": false,
          "text": "Precision",
          "x": 0.5,
          "xanchor": "center",
          "xref": "paper",
          "y": 0.2777777777777778,
          "yanchor": "bottom",
          "yref": "paper"
         },
         {
          "font": {
           "size": 16
          },
          "showarrow": false,
          "text": "Recall",
          "x": 0.5,
          "xanchor": "center",
          "xref": "paper",
          "y": 0.09722222222222222,
          "yanchor": "bottom",
          "yref": "paper"
         }
        ],
        "height": 1000,
        "template": {
         "data": {
          "bar": [
           {
            "error_x": {
             "color": "#2a3f5f"
            },
            "error_y": {
             "color": "#2a3f5f"
            },
            "marker": {
             "line": {
              "color": "#E5ECF6",
              "width": 0.5
             },
             "pattern": {
              "fillmode": "overlay",
              "size": 10,
              "solidity": 0.2
             }
            },
            "type": "bar"
           }
          ],
          "barpolar": [
           {
            "marker": {
             "line": {
              "color": "#E5ECF6",
              "width": 0.5
             },
             "pattern": {
              "fillmode": "overlay",
              "size": 10,
              "solidity": 0.2
             }
            },
            "type": "barpolar"
           }
          ],
          "carpet": [
           {
            "aaxis": {
             "endlinecolor": "#2a3f5f",
             "gridcolor": "white",
             "linecolor": "white",
             "minorgridcolor": "white",
             "startlinecolor": "#2a3f5f"
            },
            "baxis": {
             "endlinecolor": "#2a3f5f",
             "gridcolor": "white",
             "linecolor": "white",
             "minorgridcolor": "white",
             "startlinecolor": "#2a3f5f"
            },
            "type": "carpet"
           }
          ],
          "choropleth": [
           {
            "colorbar": {
             "outlinewidth": 0,
             "ticks": ""
            },
            "type": "choropleth"
           }
          ],
          "contour": [
           {
            "colorbar": {
             "outlinewidth": 0,
             "ticks": ""
            },
            "colorscale": [
             [
              0,
              "#0d0887"
             ],
             [
              0.1111111111111111,
              "#46039f"
             ],
             [
              0.2222222222222222,
              "#7201a8"
             ],
             [
              0.3333333333333333,
              "#9c179e"
             ],
             [
              0.4444444444444444,
              "#bd3786"
             ],
             [
              0.5555555555555556,
              "#d8576b"
             ],
             [
              0.6666666666666666,
              "#ed7953"
             ],
             [
              0.7777777777777778,
              "#fb9f3a"
             ],
             [
              0.8888888888888888,
              "#fdca26"
             ],
             [
              1,
              "#f0f921"
             ]
            ],
            "type": "contour"
           }
          ],
          "contourcarpet": [
           {
            "colorbar": {
             "outlinewidth": 0,
             "ticks": ""
            },
            "type": "contourcarpet"
           }
          ],
          "heatmap": [
           {
            "colorbar": {
             "outlinewidth": 0,
             "ticks": ""
            },
            "colorscale": [
             [
              0,
              "#0d0887"
             ],
             [
              0.1111111111111111,
              "#46039f"
             ],
             [
              0.2222222222222222,
              "#7201a8"
             ],
             [
              0.3333333333333333,
              "#9c179e"
             ],
             [
              0.4444444444444444,
              "#bd3786"
             ],
             [
              0.5555555555555556,
              "#d8576b"
             ],
             [
              0.6666666666666666,
              "#ed7953"
             ],
             [
              0.7777777777777778,
              "#fb9f3a"
             ],
             [
              0.8888888888888888,
              "#fdca26"
             ],
             [
              1,
              "#f0f921"
             ]
            ],
            "type": "heatmap"
           }
          ],
          "heatmapgl": [
           {
            "colorbar": {
             "outlinewidth": 0,
             "ticks": ""
            },
            "colorscale": [
             [
              0,
              "#0d0887"
             ],
             [
              0.1111111111111111,
              "#46039f"
             ],
             [
              0.2222222222222222,
              "#7201a8"
             ],
             [
              0.3333333333333333,
              "#9c179e"
             ],
             [
              0.4444444444444444,
              "#bd3786"
             ],
             [
              0.5555555555555556,
              "#d8576b"
             ],
             [
              0.6666666666666666,
              "#ed7953"
             ],
             [
              0.7777777777777778,
              "#fb9f3a"
             ],
             [
              0.8888888888888888,
              "#fdca26"
             ],
             [
              1,
              "#f0f921"
             ]
            ],
            "type": "heatmapgl"
           }
          ],
          "histogram": [
           {
            "marker": {
             "pattern": {
              "fillmode": "overlay",
              "size": 10,
              "solidity": 0.2
             }
            },
            "type": "histogram"
           }
          ],
          "histogram2d": [
           {
            "colorbar": {
             "outlinewidth": 0,
             "ticks": ""
            },
            "colorscale": [
             [
              0,
              "#0d0887"
             ],
             [
              0.1111111111111111,
              "#46039f"
             ],
             [
              0.2222222222222222,
              "#7201a8"
             ],
             [
              0.3333333333333333,
              "#9c179e"
             ],
             [
              0.4444444444444444,
              "#bd3786"
             ],
             [
              0.5555555555555556,
              "#d8576b"
             ],
             [
              0.6666666666666666,
              "#ed7953"
             ],
             [
              0.7777777777777778,
              "#fb9f3a"
             ],
             [
              0.8888888888888888,
              "#fdca26"
             ],
             [
              1,
              "#f0f921"
             ]
            ],
            "type": "histogram2d"
           }
          ],
          "histogram2dcontour": [
           {
            "colorbar": {
             "outlinewidth": 0,
             "ticks": ""
            },
            "colorscale": [
             [
              0,
              "#0d0887"
             ],
             [
              0.1111111111111111,
              "#46039f"
             ],
             [
              0.2222222222222222,
              "#7201a8"
             ],
             [
              0.3333333333333333,
              "#9c179e"
             ],
             [
              0.4444444444444444,
              "#bd3786"
             ],
             [
              0.5555555555555556,
              "#d8576b"
             ],
             [
              0.6666666666666666,
              "#ed7953"
             ],
             [
              0.7777777777777778,
              "#fb9f3a"
             ],
             [
              0.8888888888888888,
              "#fdca26"
             ],
             [
              1,
              "#f0f921"
             ]
            ],
            "type": "histogram2dcontour"
           }
          ],
          "mesh3d": [
           {
            "colorbar": {
             "outlinewidth": 0,
             "ticks": ""
            },
            "type": "mesh3d"
           }
          ],
          "parcoords": [
           {
            "line": {
             "colorbar": {
              "outlinewidth": 0,
              "ticks": ""
             }
            },
            "type": "parcoords"
           }
          ],
          "pie": [
           {
            "automargin": true,
            "type": "pie"
           }
          ],
          "scatter": [
           {
            "fillpattern": {
             "fillmode": "overlay",
             "size": 10,
             "solidity": 0.2
            },
            "type": "scatter"
           }
          ],
          "scatter3d": [
           {
            "line": {
             "colorbar": {
              "outlinewidth": 0,
              "ticks": ""
             }
            },
            "marker": {
             "colorbar": {
              "outlinewidth": 0,
              "ticks": ""
             }
            },
            "type": "scatter3d"
           }
          ],
          "scattercarpet": [
           {
            "marker": {
             "colorbar": {
              "outlinewidth": 0,
              "ticks": ""
             }
            },
            "type": "scattercarpet"
           }
          ],
          "scattergeo": [
           {
            "marker": {
             "colorbar": {
              "outlinewidth": 0,
              "ticks": ""
             }
            },
            "type": "scattergeo"
           }
          ],
          "scattergl": [
           {
            "marker": {
             "colorbar": {
              "outlinewidth": 0,
              "ticks": ""
             }
            },
            "type": "scattergl"
           }
          ],
          "scattermapbox": [
           {
            "marker": {
             "colorbar": {
              "outlinewidth": 0,
              "ticks": ""
             }
            },
            "type": "scattermapbox"
           }
          ],
          "scatterpolar": [
           {
            "marker": {
             "colorbar": {
              "outlinewidth": 0,
              "ticks": ""
             }
            },
            "type": "scatterpolar"
           }
          ],
          "scatterpolargl": [
           {
            "marker": {
             "colorbar": {
              "outlinewidth": 0,
              "ticks": ""
             }
            },
            "type": "scatterpolargl"
           }
          ],
          "scatterternary": [
           {
            "marker": {
             "colorbar": {
              "outlinewidth": 0,
              "ticks": ""
             }
            },
            "type": "scatterternary"
           }
          ],
          "surface": [
           {
            "colorbar": {
             "outlinewidth": 0,
             "ticks": ""
            },
            "colorscale": [
             [
              0,
              "#0d0887"
             ],
             [
              0.1111111111111111,
              "#46039f"
             ],
             [
              0.2222222222222222,
              "#7201a8"
             ],
             [
              0.3333333333333333,
              "#9c179e"
             ],
             [
              0.4444444444444444,
              "#bd3786"
             ],
             [
              0.5555555555555556,
              "#d8576b"
             ],
             [
              0.6666666666666666,
              "#ed7953"
             ],
             [
              0.7777777777777778,
              "#fb9f3a"
             ],
             [
              0.8888888888888888,
              "#fdca26"
             ],
             [
              1,
              "#f0f921"
             ]
            ],
            "type": "surface"
           }
          ],
          "table": [
           {
            "cells": {
             "fill": {
              "color": "#EBF0F8"
             },
             "line": {
              "color": "white"
             }
            },
            "header": {
             "fill": {
              "color": "#C8D4E3"
             },
             "line": {
              "color": "white"
             }
            },
            "type": "table"
           }
          ]
         },
         "layout": {
          "annotationdefaults": {
           "arrowcolor": "#2a3f5f",
           "arrowhead": 0,
           "arrowwidth": 1
          },
          "autotypenumbers": "strict",
          "coloraxis": {
           "colorbar": {
            "outlinewidth": 0,
            "ticks": ""
           }
          },
          "colorscale": {
           "diverging": [
            [
             0,
             "#8e0152"
            ],
            [
             0.1,
             "#c51b7d"
            ],
            [
             0.2,
             "#de77ae"
            ],
            [
             0.3,
             "#f1b6da"
            ],
            [
             0.4,
             "#fde0ef"
            ],
            [
             0.5,
             "#f7f7f7"
            ],
            [
             0.6,
             "#e6f5d0"
            ],
            [
             0.7,
             "#b8e186"
            ],
            [
             0.8,
             "#7fbc41"
            ],
            [
             0.9,
             "#4d9221"
            ],
            [
             1,
             "#276419"
            ]
           ],
           "sequential": [
            [
             0,
             "#0d0887"
            ],
            [
             0.1111111111111111,
             "#46039f"
            ],
            [
             0.2222222222222222,
             "#7201a8"
            ],
            [
             0.3333333333333333,
             "#9c179e"
            ],
            [
             0.4444444444444444,
             "#bd3786"
            ],
            [
             0.5555555555555556,
             "#d8576b"
            ],
            [
             0.6666666666666666,
             "#ed7953"
            ],
            [
             0.7777777777777778,
             "#fb9f3a"
            ],
            [
             0.8888888888888888,
             "#fdca26"
            ],
            [
             1,
             "#f0f921"
            ]
           ],
           "sequentialminus": [
            [
             0,
             "#0d0887"
            ],
            [
             0.1111111111111111,
             "#46039f"
            ],
            [
             0.2222222222222222,
             "#7201a8"
            ],
            [
             0.3333333333333333,
             "#9c179e"
            ],
            [
             0.4444444444444444,
             "#bd3786"
            ],
            [
             0.5555555555555556,
             "#d8576b"
            ],
            [
             0.6666666666666666,
             "#ed7953"
            ],
            [
             0.7777777777777778,
             "#fb9f3a"
            ],
            [
             0.8888888888888888,
             "#fdca26"
            ],
            [
             1,
             "#f0f921"
            ]
           ]
          },
          "colorway": [
           "#636efa",
           "#EF553B",
           "#00cc96",
           "#ab63fa",
           "#FFA15A",
           "#19d3f3",
           "#FF6692",
           "#B6E880",
           "#FF97FF",
           "#FECB52"
          ],
          "font": {
           "color": "#2a3f5f"
          },
          "geo": {
           "bgcolor": "white",
           "lakecolor": "white",
           "landcolor": "#E5ECF6",
           "showlakes": true,
           "showland": true,
           "subunitcolor": "white"
          },
          "hoverlabel": {
           "align": "left"
          },
          "hovermode": "closest",
          "mapbox": {
           "style": "light"
          },
          "paper_bgcolor": "white",
          "plot_bgcolor": "#E5ECF6",
          "polar": {
           "angularaxis": {
            "gridcolor": "white",
            "linecolor": "white",
            "ticks": ""
           },
           "bgcolor": "#E5ECF6",
           "radialaxis": {
            "gridcolor": "white",
            "linecolor": "white",
            "ticks": ""
           }
          },
          "scene": {
           "xaxis": {
            "backgroundcolor": "#E5ECF6",
            "gridcolor": "white",
            "gridwidth": 2,
            "linecolor": "white",
            "showbackground": true,
            "ticks": "",
            "zerolinecolor": "white"
           },
           "yaxis": {
            "backgroundcolor": "#E5ECF6",
            "gridcolor": "white",
            "gridwidth": 2,
            "linecolor": "white",
            "showbackground": true,
            "ticks": "",
            "zerolinecolor": "white"
           },
           "zaxis": {
            "backgroundcolor": "#E5ECF6",
            "gridcolor": "white",
            "gridwidth": 2,
            "linecolor": "white",
            "showbackground": true,
            "ticks": "",
            "zerolinecolor": "white"
           }
          },
          "shapedefaults": {
           "line": {
            "color": "#2a3f5f"
           }
          },
          "ternary": {
           "aaxis": {
            "gridcolor": "white",
            "linecolor": "white",
            "ticks": ""
           },
           "baxis": {
            "gridcolor": "white",
            "linecolor": "white",
            "ticks": ""
           },
           "bgcolor": "#E5ECF6",
           "caxis": {
            "gridcolor": "white",
            "linecolor": "white",
            "ticks": ""
           }
          },
          "title": {
           "x": 0.05
          },
          "xaxis": {
           "automargin": true,
           "gridcolor": "white",
           "linecolor": "white",
           "ticks": "",
           "title": {
            "standoff": 15
           },
           "zerolinecolor": "white",
           "zerolinewidth": 2
          },
          "yaxis": {
           "automargin": true,
           "gridcolor": "white",
           "linecolor": "white",
           "ticks": "",
           "title": {
            "standoff": 15
           },
           "zerolinecolor": "white",
           "zerolinewidth": 2
          }
         }
        },
        "title": {
         "text": "KNN Training Size Impact"
        },
        "xaxis": {
         "anchor": "y",
         "domain": [
          0,
          1
         ],
         "matches": "x6",
         "showticklabels": false,
         "tickmode": "array",
         "ticktext": [
          100,
          500,
          1000,
          5000,
          8000,
          10000,
          30000,
          50000,
          80000
         ],
         "tickvals": [
          0,
          1,
          2,
          3,
          4,
          5,
          6,
          7,
          8
         ],
         "type": "category"
        },
        "xaxis2": {
         "anchor": "y2",
         "domain": [
          0,
          1
         ],
         "matches": "x6",
         "showticklabels": false,
         "tickmode": "array",
         "ticktext": [
          100,
          500,
          1000,
          5000,
          8000,
          10000,
          30000,
          50000,
          80000
         ],
         "tickvals": [
          0,
          1,
          2,
          3,
          4,
          5,
          6,
          7,
          8
         ]
        },
        "xaxis3": {
         "anchor": "y3",
         "domain": [
          0,
          1
         ],
         "matches": "x6",
         "showticklabels": false,
         "tickmode": "array",
         "ticktext": [
          100,
          500,
          1000,
          5000,
          8000,
          10000,
          30000,
          50000,
          80000
         ],
         "tickvals": [
          0,
          1,
          2,
          3,
          4,
          5,
          6,
          7,
          8
         ]
        },
        "xaxis4": {
         "anchor": "y4",
         "domain": [
          0,
          1
         ],
         "matches": "x6",
         "showticklabels": false,
         "tickmode": "array",
         "ticktext": [
          100,
          500,
          1000,
          5000,
          8000,
          10000,
          30000,
          50000,
          80000
         ],
         "tickvals": [
          0,
          1,
          2,
          3,
          4,
          5,
          6,
          7,
          8
         ]
        },
        "xaxis5": {
         "anchor": "y5",
         "domain": [
          0,
          1
         ],
         "matches": "x6",
         "showticklabels": false,
         "tickmode": "array",
         "ticktext": [
          100,
          500,
          1000,
          5000,
          8000,
          10000,
          30000,
          50000,
          80000
         ],
         "tickvals": [
          0,
          1,
          2,
          3,
          4,
          5,
          6,
          7,
          8
         ]
        },
        "xaxis6": {
         "anchor": "y6",
         "domain": [
          0,
          1
         ],
         "tickmode": "array",
         "ticktext": [
          100,
          500,
          1000,
          5000,
          8000,
          10000,
          30000,
          50000,
          80000
         ],
         "tickvals": [
          0,
          1,
          2,
          3,
          4,
          5,
          6,
          7,
          8
         ]
        },
        "yaxis": {
         "anchor": "x",
         "domain": [
          0.9027777777777777,
          0.9999999999999999
         ]
        },
        "yaxis2": {
         "anchor": "x2",
         "domain": [
          0.7222222222222222,
          0.8194444444444444
         ]
        },
        "yaxis3": {
         "anchor": "x3",
         "domain": [
          0.5416666666666667,
          0.638888888888889
         ]
        },
        "yaxis4": {
         "anchor": "x4",
         "domain": [
          0.3611111111111111,
          0.4583333333333333
         ]
        },
        "yaxis5": {
         "anchor": "x5",
         "domain": [
          0.18055555555555555,
          0.2777777777777778
         ]
        },
        "yaxis6": {
         "anchor": "x6",
         "domain": [
          0,
          0.09722222222222222
         ]
        }
       }
      },
      "text/html": [
       "<div>                            <div id=\"76c1ba82-51d8-4cdb-805f-63854e2a05c5\" class=\"plotly-graph-div\" style=\"height:1000px; width:100%;\"></div>            <script type=\"text/javascript\">                require([\"plotly\"], function(Plotly) {                    window.PLOTLYENV=window.PLOTLYENV || {};                                    if (document.getElementById(\"76c1ba82-51d8-4cdb-805f-63854e2a05c5\")) {                    Plotly.newPlot(                        \"76c1ba82-51d8-4cdb-805f-63854e2a05c5\",                        [{\"name\":\"mean_fit_time\",\"x\":[\"a\",\"b\",\"c\",\"d\",\"e\",\"f\",\"g\",\"h\",\"i\"],\"y\":[0.0007804155349731446,0.0008730411529541016,0.0011352062225341796,0.0016800403594970704,0.0032869577407836914,0.002874135971069336,0.004789328575134278,0.008004713058471679,0.019231438636779785],\"type\":\"scatter\",\"xaxis\":\"x\",\"yaxis\":\"y\"},{\"name\":\"mean_score_time\",\"x\":[\"a\",\"b\",\"c\",\"d\",\"e\",\"f\",\"g\",\"h\",\"i\"],\"y\":[0.0055617809295654295,0.007028841972351074,0.01094512939453125,0.06278491020202637,0.1278697967529297,0.21360034942626954,1.2955369710922242,3.857014799118042,9.845587038993836],\"type\":\"scatter\",\"xaxis\":\"x2\",\"yaxis\":\"y2\"},{\"name\":\"mean_train_accuracy\",\"y\":[0.9800000000000001,0.9828888888888889,0.985111111111111,0.9793111111111111,0.9792083333333335,0.9789222222222224,0.9788851851851852,0.9787755555555554,0.9757069444444445],\"type\":\"scatter\",\"xaxis\":\"x3\",\"yaxis\":\"y3\"},{\"name\":\"mean_test_accuracy\",\"y\":[0.73,0.826,0.8619999999999999,0.8914000000000002,0.9039999999999999,0.9057000000000001,0.9250000000000002,0.9315,0.9348125000000002],\"type\":\"scatter\",\"xaxis\":\"x3\",\"yaxis\":\"y3\"},{\"name\":\"mean_train_f1\",\"y\":[0.9788348322221758,0.9818425784478355,0.9828794648501201,0.9783971902951496,0.9785021097563413,0.9781501901321089,0.9781175599895585,0.9780996834551476,0.9748986027482432],\"type\":\"scatter\",\"xaxis\":\"x4\",\"yaxis\":\"y4\"},{\"name\":\"mean_test_f1\",\"y\":[0.7477505827505828,0.8334449935737102,0.8523173819694927,0.8918838616513739,0.9047050513315329,0.9062292127351462,0.9245735699718647,0.9312693768021418,0.9341477878609739],\"type\":\"scatter\",\"xaxis\":\"x4\",\"yaxis\":\"y4\"},{\"name\":\"mean_train_precision\",\"y\":[0.9728764388066715,0.966813288894526,0.9687359593539273,0.9592779253690077,0.9594083479099382,0.9586170416971592,0.9589700015409177,0.9589325938600723,0.9519114325887754],\"type\":\"scatter\",\"xaxis\":\"x5\",\"yaxis\":\"y5\"},{\"name\":\"mean_test_precision\",\"y\":[0.6785714285714286,0.7539581106388915,0.7850921434677579,0.8361387168447955,0.8535597979668481,0.8536919060562088,0.8802760036525346,0.888524902273851,0.8931402411733558],\"type\":\"scatter\",\"xaxis\":\"x5\",\"yaxis\":\"y5\"},{\"name\":\"mean_train_recall\",\"y\":[0.9857142857142858,0.9975961538461539,0.9976623376623376,0.998433769585486,0.9985021336218424,0.9986329759874071,0.9981865075413066,0.9981896588591956,0.9990235096014934],\"type\":\"scatter\",\"xaxis\":\"x6\",\"yaxis\":\"y6\"},{\"name\":\"mean_test_recall\",\"y\":[0.85,0.9355072463768117,0.9341638981173865,0.9559956355701036,0.962723541483436,0.9660513152686313,0.9737156874488433,0.9785148890468124,0.9791142033928855],\"type\":\"scatter\",\"xaxis\":\"x6\",\"yaxis\":\"y6\"}],                        {\"template\":{\"data\":{\"histogram2dcontour\":[{\"type\":\"histogram2dcontour\",\"colorbar\":{\"outlinewidth\":0,\"ticks\":\"\"},\"colorscale\":[[0.0,\"#0d0887\"],[0.1111111111111111,\"#46039f\"],[0.2222222222222222,\"#7201a8\"],[0.3333333333333333,\"#9c179e\"],[0.4444444444444444,\"#bd3786\"],[0.5555555555555556,\"#d8576b\"],[0.6666666666666666,\"#ed7953\"],[0.7777777777777778,\"#fb9f3a\"],[0.8888888888888888,\"#fdca26\"],[1.0,\"#f0f921\"]]}],\"choropleth\":[{\"type\":\"choropleth\",\"colorbar\":{\"outlinewidth\":0,\"ticks\":\"\"}}],\"histogram2d\":[{\"type\":\"histogram2d\",\"colorbar\":{\"outlinewidth\":0,\"ticks\":\"\"},\"colorscale\":[[0.0,\"#0d0887\"],[0.1111111111111111,\"#46039f\"],[0.2222222222222222,\"#7201a8\"],[0.3333333333333333,\"#9c179e\"],[0.4444444444444444,\"#bd3786\"],[0.5555555555555556,\"#d8576b\"],[0.6666666666666666,\"#ed7953\"],[0.7777777777777778,\"#fb9f3a\"],[0.8888888888888888,\"#fdca26\"],[1.0,\"#f0f921\"]]}],\"heatmap\":[{\"type\":\"heatmap\",\"colorbar\":{\"outlinewidth\":0,\"ticks\":\"\"},\"colorscale\":[[0.0,\"#0d0887\"],[0.1111111111111111,\"#46039f\"],[0.2222222222222222,\"#7201a8\"],[0.3333333333333333,\"#9c179e\"],[0.4444444444444444,\"#bd3786\"],[0.5555555555555556,\"#d8576b\"],[0.6666666666666666,\"#ed7953\"],[0.7777777777777778,\"#fb9f3a\"],[0.8888888888888888,\"#fdca26\"],[1.0,\"#f0f921\"]]}],\"heatmapgl\":[{\"type\":\"heatmapgl\",\"colorbar\":{\"outlinewidth\":0,\"ticks\":\"\"},\"colorscale\":[[0.0,\"#0d0887\"],[0.1111111111111111,\"#46039f\"],[0.2222222222222222,\"#7201a8\"],[0.3333333333333333,\"#9c179e\"],[0.4444444444444444,\"#bd3786\"],[0.5555555555555556,\"#d8576b\"],[0.6666666666666666,\"#ed7953\"],[0.7777777777777778,\"#fb9f3a\"],[0.8888888888888888,\"#fdca26\"],[1.0,\"#f0f921\"]]}],\"contourcarpet\":[{\"type\":\"contourcarpet\",\"colorbar\":{\"outlinewidth\":0,\"ticks\":\"\"}}],\"contour\":[{\"type\":\"contour\",\"colorbar\":{\"outlinewidth\":0,\"ticks\":\"\"},\"colorscale\":[[0.0,\"#0d0887\"],[0.1111111111111111,\"#46039f\"],[0.2222222222222222,\"#7201a8\"],[0.3333333333333333,\"#9c179e\"],[0.4444444444444444,\"#bd3786\"],[0.5555555555555556,\"#d8576b\"],[0.6666666666666666,\"#ed7953\"],[0.7777777777777778,\"#fb9f3a\"],[0.8888888888888888,\"#fdca26\"],[1.0,\"#f0f921\"]]}],\"surface\":[{\"type\":\"surface\",\"colorbar\":{\"outlinewidth\":0,\"ticks\":\"\"},\"colorscale\":[[0.0,\"#0d0887\"],[0.1111111111111111,\"#46039f\"],[0.2222222222222222,\"#7201a8\"],[0.3333333333333333,\"#9c179e\"],[0.4444444444444444,\"#bd3786\"],[0.5555555555555556,\"#d8576b\"],[0.6666666666666666,\"#ed7953\"],[0.7777777777777778,\"#fb9f3a\"],[0.8888888888888888,\"#fdca26\"],[1.0,\"#f0f921\"]]}],\"mesh3d\":[{\"type\":\"mesh3d\",\"colorbar\":{\"outlinewidth\":0,\"ticks\":\"\"}}],\"scatter\":[{\"fillpattern\":{\"fillmode\":\"overlay\",\"size\":10,\"solidity\":0.2},\"type\":\"scatter\"}],\"parcoords\":[{\"type\":\"parcoords\",\"line\":{\"colorbar\":{\"outlinewidth\":0,\"ticks\":\"\"}}}],\"scatterpolargl\":[{\"type\":\"scatterpolargl\",\"marker\":{\"colorbar\":{\"outlinewidth\":0,\"ticks\":\"\"}}}],\"bar\":[{\"error_x\":{\"color\":\"#2a3f5f\"},\"error_y\":{\"color\":\"#2a3f5f\"},\"marker\":{\"line\":{\"color\":\"#E5ECF6\",\"width\":0.5},\"pattern\":{\"fillmode\":\"overlay\",\"size\":10,\"solidity\":0.2}},\"type\":\"bar\"}],\"scattergeo\":[{\"type\":\"scattergeo\",\"marker\":{\"colorbar\":{\"outlinewidth\":0,\"ticks\":\"\"}}}],\"scatterpolar\":[{\"type\":\"scatterpolar\",\"marker\":{\"colorbar\":{\"outlinewidth\":0,\"ticks\":\"\"}}}],\"histogram\":[{\"marker\":{\"pattern\":{\"fillmode\":\"overlay\",\"size\":10,\"solidity\":0.2}},\"type\":\"histogram\"}],\"scattergl\":[{\"type\":\"scattergl\",\"marker\":{\"colorbar\":{\"outlinewidth\":0,\"ticks\":\"\"}}}],\"scatter3d\":[{\"type\":\"scatter3d\",\"line\":{\"colorbar\":{\"outlinewidth\":0,\"ticks\":\"\"}},\"marker\":{\"colorbar\":{\"outlinewidth\":0,\"ticks\":\"\"}}}],\"scattermapbox\":[{\"type\":\"scattermapbox\",\"marker\":{\"colorbar\":{\"outlinewidth\":0,\"ticks\":\"\"}}}],\"scatterternary\":[{\"type\":\"scatterternary\",\"marker\":{\"colorbar\":{\"outlinewidth\":0,\"ticks\":\"\"}}}],\"scattercarpet\":[{\"type\":\"scattercarpet\",\"marker\":{\"colorbar\":{\"outlinewidth\":0,\"ticks\":\"\"}}}],\"carpet\":[{\"aaxis\":{\"endlinecolor\":\"#2a3f5f\",\"gridcolor\":\"white\",\"linecolor\":\"white\",\"minorgridcolor\":\"white\",\"startlinecolor\":\"#2a3f5f\"},\"baxis\":{\"endlinecolor\":\"#2a3f5f\",\"gridcolor\":\"white\",\"linecolor\":\"white\",\"minorgridcolor\":\"white\",\"startlinecolor\":\"#2a3f5f\"},\"type\":\"carpet\"}],\"table\":[{\"cells\":{\"fill\":{\"color\":\"#EBF0F8\"},\"line\":{\"color\":\"white\"}},\"header\":{\"fill\":{\"color\":\"#C8D4E3\"},\"line\":{\"color\":\"white\"}},\"type\":\"table\"}],\"barpolar\":[{\"marker\":{\"line\":{\"color\":\"#E5ECF6\",\"width\":0.5},\"pattern\":{\"fillmode\":\"overlay\",\"size\":10,\"solidity\":0.2}},\"type\":\"barpolar\"}],\"pie\":[{\"automargin\":true,\"type\":\"pie\"}]},\"layout\":{\"autotypenumbers\":\"strict\",\"colorway\":[\"#636efa\",\"#EF553B\",\"#00cc96\",\"#ab63fa\",\"#FFA15A\",\"#19d3f3\",\"#FF6692\",\"#B6E880\",\"#FF97FF\",\"#FECB52\"],\"font\":{\"color\":\"#2a3f5f\"},\"hovermode\":\"closest\",\"hoverlabel\":{\"align\":\"left\"},\"paper_bgcolor\":\"white\",\"plot_bgcolor\":\"#E5ECF6\",\"polar\":{\"bgcolor\":\"#E5ECF6\",\"angularaxis\":{\"gridcolor\":\"white\",\"linecolor\":\"white\",\"ticks\":\"\"},\"radialaxis\":{\"gridcolor\":\"white\",\"linecolor\":\"white\",\"ticks\":\"\"}},\"ternary\":{\"bgcolor\":\"#E5ECF6\",\"aaxis\":{\"gridcolor\":\"white\",\"linecolor\":\"white\",\"ticks\":\"\"},\"baxis\":{\"gridcolor\":\"white\",\"linecolor\":\"white\",\"ticks\":\"\"},\"caxis\":{\"gridcolor\":\"white\",\"linecolor\":\"white\",\"ticks\":\"\"}},\"coloraxis\":{\"colorbar\":{\"outlinewidth\":0,\"ticks\":\"\"}},\"colorscale\":{\"sequential\":[[0.0,\"#0d0887\"],[0.1111111111111111,\"#46039f\"],[0.2222222222222222,\"#7201a8\"],[0.3333333333333333,\"#9c179e\"],[0.4444444444444444,\"#bd3786\"],[0.5555555555555556,\"#d8576b\"],[0.6666666666666666,\"#ed7953\"],[0.7777777777777778,\"#fb9f3a\"],[0.8888888888888888,\"#fdca26\"],[1.0,\"#f0f921\"]],\"sequentialminus\":[[0.0,\"#0d0887\"],[0.1111111111111111,\"#46039f\"],[0.2222222222222222,\"#7201a8\"],[0.3333333333333333,\"#9c179e\"],[0.4444444444444444,\"#bd3786\"],[0.5555555555555556,\"#d8576b\"],[0.6666666666666666,\"#ed7953\"],[0.7777777777777778,\"#fb9f3a\"],[0.8888888888888888,\"#fdca26\"],[1.0,\"#f0f921\"]],\"diverging\":[[0,\"#8e0152\"],[0.1,\"#c51b7d\"],[0.2,\"#de77ae\"],[0.3,\"#f1b6da\"],[0.4,\"#fde0ef\"],[0.5,\"#f7f7f7\"],[0.6,\"#e6f5d0\"],[0.7,\"#b8e186\"],[0.8,\"#7fbc41\"],[0.9,\"#4d9221\"],[1,\"#276419\"]]},\"xaxis\":{\"gridcolor\":\"white\",\"linecolor\":\"white\",\"ticks\":\"\",\"title\":{\"standoff\":15},\"zerolinecolor\":\"white\",\"automargin\":true,\"zerolinewidth\":2},\"yaxis\":{\"gridcolor\":\"white\",\"linecolor\":\"white\",\"ticks\":\"\",\"title\":{\"standoff\":15},\"zerolinecolor\":\"white\",\"automargin\":true,\"zerolinewidth\":2},\"scene\":{\"xaxis\":{\"backgroundcolor\":\"#E5ECF6\",\"gridcolor\":\"white\",\"linecolor\":\"white\",\"showbackground\":true,\"ticks\":\"\",\"zerolinecolor\":\"white\",\"gridwidth\":2},\"yaxis\":{\"backgroundcolor\":\"#E5ECF6\",\"gridcolor\":\"white\",\"linecolor\":\"white\",\"showbackground\":true,\"ticks\":\"\",\"zerolinecolor\":\"white\",\"gridwidth\":2},\"zaxis\":{\"backgroundcolor\":\"#E5ECF6\",\"gridcolor\":\"white\",\"linecolor\":\"white\",\"showbackground\":true,\"ticks\":\"\",\"zerolinecolor\":\"white\",\"gridwidth\":2}},\"shapedefaults\":{\"line\":{\"color\":\"#2a3f5f\"}},\"annotationdefaults\":{\"arrowcolor\":\"#2a3f5f\",\"arrowhead\":0,\"arrowwidth\":1},\"geo\":{\"bgcolor\":\"white\",\"landcolor\":\"#E5ECF6\",\"subunitcolor\":\"white\",\"showland\":true,\"showlakes\":true,\"lakecolor\":\"white\"},\"title\":{\"x\":0.05},\"mapbox\":{\"style\":\"light\"}}},\"xaxis\":{\"anchor\":\"y\",\"domain\":[0.0,1.0],\"matches\":\"x6\",\"showticklabels\":false,\"type\":\"category\",\"tickmode\":\"array\",\"tickvals\":[0,1,2,3,4,5,6,7,8],\"ticktext\":[100,500,1000,5000,8000,10000,30000,50000,80000]},\"yaxis\":{\"anchor\":\"x\",\"domain\":[0.9027777777777777,0.9999999999999999]},\"xaxis2\":{\"anchor\":\"y2\",\"domain\":[0.0,1.0],\"matches\":\"x6\",\"showticklabels\":false,\"tickmode\":\"array\",\"tickvals\":[0,1,2,3,4,5,6,7,8],\"ticktext\":[100,500,1000,5000,8000,10000,30000,50000,80000]},\"yaxis2\":{\"anchor\":\"x2\",\"domain\":[0.7222222222222222,0.8194444444444444]},\"xaxis3\":{\"anchor\":\"y3\",\"domain\":[0.0,1.0],\"matches\":\"x6\",\"showticklabels\":false,\"tickmode\":\"array\",\"tickvals\":[0,1,2,3,4,5,6,7,8],\"ticktext\":[100,500,1000,5000,8000,10000,30000,50000,80000]},\"yaxis3\":{\"anchor\":\"x3\",\"domain\":[0.5416666666666667,0.638888888888889]},\"xaxis4\":{\"anchor\":\"y4\",\"domain\":[0.0,1.0],\"matches\":\"x6\",\"showticklabels\":false,\"tickmode\":\"array\",\"tickvals\":[0,1,2,3,4,5,6,7,8],\"ticktext\":[100,500,1000,5000,8000,10000,30000,50000,80000]},\"yaxis4\":{\"anchor\":\"x4\",\"domain\":[0.3611111111111111,0.4583333333333333]},\"xaxis5\":{\"anchor\":\"y5\",\"domain\":[0.0,1.0],\"matches\":\"x6\",\"showticklabels\":false,\"tickmode\":\"array\",\"tickvals\":[0,1,2,3,4,5,6,7,8],\"ticktext\":[100,500,1000,5000,8000,10000,30000,50000,80000]},\"yaxis5\":{\"anchor\":\"x5\",\"domain\":[0.18055555555555555,0.2777777777777778]},\"xaxis6\":{\"anchor\":\"y6\",\"domain\":[0.0,1.0],\"tickmode\":\"array\",\"tickvals\":[0,1,2,3,4,5,6,7,8],\"ticktext\":[100,500,1000,5000,8000,10000,30000,50000,80000]},\"yaxis6\":{\"anchor\":\"x6\",\"domain\":[0.0,0.09722222222222222]},\"annotations\":[{\"font\":{\"size\":16},\"showarrow\":false,\"text\":\"Fitting Time\",\"x\":0.5,\"xanchor\":\"center\",\"xref\":\"paper\",\"y\":0.9999999999999999,\"yanchor\":\"bottom\",\"yref\":\"paper\"},{\"font\":{\"size\":16},\"showarrow\":false,\"text\":\"Scoring Time\",\"x\":0.5,\"xanchor\":\"center\",\"xref\":\"paper\",\"y\":0.8194444444444444,\"yanchor\":\"bottom\",\"yref\":\"paper\"},{\"font\":{\"size\":16},\"showarrow\":false,\"text\":\"Accuracy\",\"x\":0.5,\"xanchor\":\"center\",\"xref\":\"paper\",\"y\":0.638888888888889,\"yanchor\":\"bottom\",\"yref\":\"paper\"},{\"font\":{\"size\":16},\"showarrow\":false,\"text\":\"F1 score\",\"x\":0.5,\"xanchor\":\"center\",\"xref\":\"paper\",\"y\":0.4583333333333333,\"yanchor\":\"bottom\",\"yref\":\"paper\"},{\"font\":{\"size\":16},\"showarrow\":false,\"text\":\"Precision\",\"x\":0.5,\"xanchor\":\"center\",\"xref\":\"paper\",\"y\":0.2777777777777778,\"yanchor\":\"bottom\",\"yref\":\"paper\"},{\"font\":{\"size\":16},\"showarrow\":false,\"text\":\"Recall\",\"x\":0.5,\"xanchor\":\"center\",\"xref\":\"paper\",\"y\":0.09722222222222222,\"yanchor\":\"bottom\",\"yref\":\"paper\"}],\"title\":{\"text\":\"KNN Training Size Impact\"},\"height\":1000},                        {\"responsive\": true}                    ).then(function(){\n",
       "                            \n",
       "var gd = document.getElementById('76c1ba82-51d8-4cdb-805f-63854e2a05c5');\n",
       "var x = new MutationObserver(function (mutations, observer) {{\n",
       "        var display = window.getComputedStyle(gd).display;\n",
       "        if (!display || display === 'none') {{\n",
       "            console.log([gd, 'removed!']);\n",
       "            Plotly.purge(gd);\n",
       "            observer.disconnect();\n",
       "        }}\n",
       "}});\n",
       "\n",
       "// Listen for the removal of the full notebook cells\n",
       "var notebookContainer = gd.closest('#notebook-container');\n",
       "if (notebookContainer) {{\n",
       "    x.observe(notebookContainer, {childList: true});\n",
       "}}\n",
       "\n",
       "// Listen for the clearing of the current output cell\n",
       "var outputEl = gd.closest('.output');\n",
       "if (outputEl) {{\n",
       "    x.observe(outputEl, {childList: true});\n",
       "}}\n",
       "\n",
       "                        })                };                });            </script>        </div>"
      ]
     },
     "metadata": {},
     "output_type": "display_data"
    }
   ],
   "source": [
    "# Uncomment for KNN learning rate\n",
    "# fig.show()"
   ]
  },
  {
   "cell_type": "markdown",
   "id": "34559eb6",
   "metadata": {},
   "source": [
    "# 4. Boosting"
   ]
  },
  {
   "cell_type": "code",
   "execution_count": 22,
   "id": "ccdcd1ba",
   "metadata": {},
   "outputs": [],
   "source": [
    "cfg = get_config(overrides=['experiments=problem1/boosting'])\n",
    "cv_results_dt = loader(os.path.join(PROJECT_PATH, cfg['artifacts']['hyperparameter_study']['name']), 'pickle')\n",
    "report = pd.concat([pd.DataFrame(d) for k,d in cv_results_dt.items()], ignore_index=True)"
   ]
  },
  {
   "cell_type": "code",
   "execution_count": 23,
   "id": "5c8b689d",
   "metadata": {},
   "outputs": [
    {
     "name": "stderr",
     "output_type": "stream",
     "text": [
      "/var/folders/f9/35q1dxg13mqbmm0r53w0ymsm0000gp/T/ipykernel_84236/1502300067.py:2: SettingWithCopyWarning:\n",
      "\n",
      "\n",
      "A value is trying to be set on a copy of a slice from a DataFrame.\n",
      "Try using .loc[row_indexer,col_indexer] = value instead\n",
      "\n",
      "See the caveats in the documentation: https://pandas.pydata.org/pandas-docs/stable/user_guide/indexing.html#returning-a-view-versus-a-copy\n",
      "\n"
     ]
    }
   ],
   "source": [
    "data = report.loc[report.training_size==80000]\n",
    "data['params_str'] = data['params'].astype(str)\n",
    "fig = plot_problem1_hyperparameters(data, \"Boosting\")\n",
    "\n",
    "# Uncomment to create ada-boosting analysis graph\n",
    "#fig.show()"
   ]
  },
  {
   "cell_type": "code",
   "execution_count": 24,
   "id": "168a43f0",
   "metadata": {},
   "outputs": [],
   "source": [
    "data = report.loc[(report.param_n_estimators==100) & (report.param_estimator==report.param_estimator.unique()[2])].reset_index(drop=True)\n",
    "fig = plot_problem1_trainingsize(data, \"Ada Boost\")\n",
    "# Uncomment to create Ada Boost learning rate\n",
    "#fig.show()"
   ]
  },
  {
   "cell_type": "code",
   "execution_count": 25,
   "id": "a1223b6f",
   "metadata": {},
   "outputs": [],
   "source": [
    "_d = pd.pivot_table(report.loc[(report.training_size==80000), \n",
    "                                ['mean_train_accuracy', \n",
    "                                 'mean_test_accuracy', \n",
    "                                 'param_estimator',\n",
    "                                 'param_n_estimators'\n",
    "                                ]],\n",
    "               values=['mean_train_accuracy', 'mean_test_accuracy'],\n",
    "               columns='param_estimator',\n",
    "               index = 'param_n_estimators', \n",
    "              sort=False)\n"
   ]
  },
  {
   "cell_type": "code",
   "execution_count": 26,
   "id": "d0e31cc1",
   "metadata": {},
   "outputs": [
    {
     "name": "stderr",
     "output_type": "stream",
     "text": [
      "/var/folders/f9/35q1dxg13mqbmm0r53w0ymsm0000gp/T/ipykernel_84236/2661908344.py:1: FutureWarning:\n",
      "\n",
      "inplace is deprecated and will be removed in a future version.\n",
      "\n"
     ]
    }
   ],
   "source": [
    "_d.columns.set_levels(['Decision Tree 1', 'Decision Tree 5', 'Decision Tree 10'], level=1, inplace=True)\n",
    "_d.index.set_names('n', inplace=True)\n",
    "_d.columns.set_names('estimator',level=1, inplace=True)"
   ]
  },
  {
   "cell_type": "code",
   "execution_count": 27,
   "id": "9a35dc9d",
   "metadata": {},
   "outputs": [],
   "source": [
    "# Uncomment to create report table\n",
    "# print(_d.to_latex(caption=\"AdaBoost Accuracy on training and validation\", float_format=\"%.4f\"))"
   ]
  },
  {
   "cell_type": "markdown",
   "id": "64937d34",
   "metadata": {},
   "source": [
    "- decision tree: gini + 200 depth\n",
    "- KNN: 1 nearest neighboors with distance\n",
    "- SVM: 1000 + linear\n",
    "- Ada-boost: decision tree 10 depth + 100 trees\n",
    "- NN: dense 64 layer with RELU"
   ]
  },
  {
   "cell_type": "code",
   "execution_count": null,
   "id": "9c5bb5b6",
   "metadata": {},
   "outputs": [],
   "source": []
  }
 ],
 "metadata": {
  "kernelspec": {
   "display_name": "Python 3 (ipykernel)",
   "language": "python",
   "name": "python3"
  },
  "language_info": {
   "codemirror_mode": {
    "name": "ipython",
    "version": 3
   },
   "file_extension": ".py",
   "mimetype": "text/x-python",
   "name": "python",
   "nbconvert_exporter": "python",
   "pygments_lexer": "ipython3",
   "version": "3.8.13"
  }
 },
 "nbformat": 4,
 "nbformat_minor": 5
}
