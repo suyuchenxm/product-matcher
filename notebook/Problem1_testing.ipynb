{
 "cells": [
  {
   "cell_type": "markdown",
   "id": "e4faeb67",
   "metadata": {},
   "source": [
    "# Summary\n",
    "\n",
    "This notebook is for evaluate the best model on testing dataset"
   ]
  },
  {
   "cell_type": "markdown",
   "id": "7b7f34bc",
   "metadata": {},
   "source": [
    "- decision tree: gini + 200 depth\n",
    "- KNN: 1 nearest neighboors with distance\n",
    "- SVM: 1000 + linear\n",
    "- Ada-boost: decision tree 10 depth + 100 trees\n",
    "- NN: dense 64 layer with RELU"
   ]
  },
  {
   "cell_type": "markdown",
   "id": "b6f55f6d",
   "metadata": {},
   "source": [
    "Get the test data"
   ]
  },
  {
   "cell_type": "code",
   "execution_count": 1,
   "id": "7008870f",
   "metadata": {},
   "outputs": [
    {
     "name": "stderr",
     "output_type": "stream",
     "text": [
      "2023-02-12 20:02:59.873375: I tensorflow/core/platform/cpu_feature_guard.cc:193] This TensorFlow binary is optimized with oneAPI Deep Neural Network Library (oneDNN) to use the following CPU instructions in performance-critical operations:  AVX2 FMA\n",
      "To enable them in other operations, rebuild TensorFlow with the appropriate compiler flags.\n"
     ]
    }
   ],
   "source": [
    "SEED = 123\n",
    "PROJECT_PATH = \"..\"\n",
    "from product_matcher.utils import get_config\n",
    "from product_matcher.utils import loader, load_data\n",
    "import os\n",
    "\n",
    "\n",
    "cfg = get_config(overrides=['experiments=problem1/neuralnet'])\n",
    "train, test, X_train, Y_train, X_test, Y_test = load_data(cfg, PROJECT_PATH)"
   ]
  },
  {
   "cell_type": "markdown",
   "id": "d80c120c",
   "metadata": {},
   "source": [
    "1. decision tree"
   ]
  },
  {
   "cell_type": "code",
   "execution_count": 2,
   "id": "98bbb1a6",
   "metadata": {},
   "outputs": [
    {
     "data": {
      "text/plain": [
       "0.9507101673463648"
      ]
     },
     "execution_count": 2,
     "metadata": {},
     "output_type": "execute_result"
    }
   ],
   "source": [
    "from sklearn import tree\n",
    "clf = tree.DecisionTreeClassifier(max_depth=200, criterion='gini', random_state=SEED)\n",
    "clf = clf.fit(X_train, Y_train)\n",
    "clf_acc = clf.score(X_test, Y_test)"
   ]
  },
  {
   "cell_type": "code",
   "execution_count": 4,
   "id": "9150de90",
   "metadata": {},
   "outputs": [],
   "source": [
    "test['clf_prediction'] = clf.predict(X_test)"
   ]
  },
  {
   "cell_type": "markdown",
   "id": "2c4d7dd4",
   "metadata": {},
   "source": [
    "2. SVM on 10,000 data"
   ]
  },
  {
   "cell_type": "code",
   "execution_count": 6,
   "id": "8b9e7dcb",
   "metadata": {},
   "outputs": [
    {
     "data": {
      "text/plain": [
       "0.9620306567290113"
      ]
     },
     "execution_count": 6,
     "metadata": {},
     "output_type": "execute_result"
    }
   ],
   "source": [
    "from sklearn.svm import SVC\n",
    "svc = SVC(kernel='linear')\n",
    "svc = svc.fit(X_train, Y_train)\n",
    "svc_acc = svc.score(X_test, Y_test)"
   ]
  },
  {
   "cell_type": "code",
   "execution_count": 14,
   "id": "86bad830",
   "metadata": {},
   "outputs": [],
   "source": [
    "test['svm_prediction'] = svc.predict(X_test)"
   ]
  },
  {
   "cell_type": "markdown",
   "id": "2de47d15",
   "metadata": {},
   "source": [
    "3. AdaBoost"
   ]
  },
  {
   "cell_type": "code",
   "execution_count": 7,
   "id": "3f60f001",
   "metadata": {},
   "outputs": [
    {
     "data": {
      "text/plain": [
       "0.9561946280410631"
      ]
     },
     "execution_count": 7,
     "metadata": {},
     "output_type": "execute_result"
    }
   ],
   "source": [
    "from sklearn.ensemble import AdaBoostClassifier\n",
    "dt = tree.DecisionTreeClassifier(max_depth=10, criterion='gini', random_state=SEED)\n",
    "ada = AdaBoostClassifier(dt, n_estimators=100)\n",
    "ada = ada.fit(X_train, Y_train)\n",
    "ada_acc = ada.score(X_test, Y_test)"
   ]
  },
  {
   "cell_type": "code",
   "execution_count": 15,
   "id": "7409f296",
   "metadata": {},
   "outputs": [],
   "source": [
    "test['adaboost_prediction'] = ada.predict(X_test)"
   ]
  },
  {
   "cell_type": "markdown",
   "id": "accfbb66",
   "metadata": {},
   "source": [
    "4. KNN"
   ]
  },
  {
   "cell_type": "code",
   "execution_count": 13,
   "id": "6b7c3e13",
   "metadata": {},
   "outputs": [
    {
     "data": {
      "text/plain": [
       "0.9557727464491632"
      ]
     },
     "execution_count": 13,
     "metadata": {},
     "output_type": "execute_result"
    }
   ],
   "source": [
    "from sklearn.neighbors import KNeighborsClassifier\n",
    "knn = KNeighborsClassifier(n_neighbors=1, weights='distance')\n",
    "knn = knn.fit(X_train, Y_train)\n",
    "knn_acc = knn.score(X_test, Y_test)"
   ]
  },
  {
   "cell_type": "code",
   "execution_count": 16,
   "id": "285dcbe0",
   "metadata": {},
   "outputs": [],
   "source": [
    "test['knn_prediction'] = knn.predict(X_test)"
   ]
  },
  {
   "cell_type": "markdown",
   "id": "a5c8efbe",
   "metadata": {},
   "source": [
    "5. NeuralNet"
   ]
  },
  {
   "cell_type": "code",
   "execution_count": 17,
   "id": "6d87e2f2",
   "metadata": {},
   "outputs": [
    {
     "name": "stderr",
     "output_type": "stream",
     "text": [
      "2023-02-12 20:26:32.747759: I tensorflow/core/platform/cpu_feature_guard.cc:193] This TensorFlow binary is optimized with oneAPI Deep Neural Network Library (oneDNN) to use the following CPU instructions in performance-critical operations:  AVX2 FMA\n",
      "To enable them in other operations, rebuild TensorFlow with the appropriate compiler flags.\n"
     ]
    }
   ],
   "source": [
    "import tensorflow as tf\n",
    "x = tf.convert_to_tensor(X_train.todense())\n",
    "x_test = tf.convert_to_tensor(X_test.todense())"
   ]
  },
  {
   "cell_type": "code",
   "execution_count": 63,
   "id": "8ca19a95",
   "metadata": {},
   "outputs": [
    {
     "name": "stdout",
     "output_type": "stream",
     "text": [
      "Epoch 1/10\n"
     ]
    },
    {
     "name": "stderr",
     "output_type": "stream",
     "text": [
      "/Users/surichen/Documents/Suri/GeogiaTech/Spring2023/product-matcher/.venv/lib/python3.8/site-packages/keras/backend.py:5676: UserWarning: \"`binary_crossentropy` received `from_logits=True`, but the `output` argument was produced by a Sigmoid activation and thus does not represent logits. Was this intended?\n",
      "  output, from_logits = _get_logits(\n"
     ]
    },
    {
     "name": "stdout",
     "output_type": "stream",
     "text": [
      "2845/2845 [==============================] - 64s 22ms/step - loss: 0.1650 - binary_accuracy: 0.9479 - precision: 0.9493 - recall: 0.9396 - val_loss: 0.1193 - val_binary_accuracy: 0.9604 - val_precision: 0.9503 - val_recall: 0.9671\n",
      "Epoch 2/10\n",
      "2845/2845 [==============================] - 69s 24ms/step - loss: 0.0931 - binary_accuracy: 0.9701 - precision: 0.9627 - recall: 0.9744 - val_loss: 0.1164 - val_binary_accuracy: 0.9624 - val_precision: 0.9582 - val_recall: 0.9627\n",
      "Epoch 3/10\n",
      "2845/2845 [==============================] - 70s 25ms/step - loss: 0.0749 - binary_accuracy: 0.9756 - precision: 0.9690 - recall: 0.9795 - val_loss: 0.1210 - val_binary_accuracy: 0.9613 - val_precision: 0.9561 - val_recall: 0.9626\n",
      "Epoch 4/10\n",
      "2845/2845 [==============================] - 60s 21ms/step - loss: 0.0642 - binary_accuracy: 0.9786 - precision: 0.9726 - recall: 0.9823 - val_loss: 0.1319 - val_binary_accuracy: 0.9607 - val_precision: 0.9588 - val_recall: 0.9584\n",
      "Epoch 5/10\n",
      "2845/2845 [==============================] - 62s 22ms/step - loss: 0.0569 - binary_accuracy: 0.9810 - precision: 0.9762 - recall: 0.9836 - val_loss: 0.1343 - val_binary_accuracy: 0.9612 - val_precision: 0.9572 - val_recall: 0.9611\n",
      "Epoch 6/10\n",
      "2845/2845 [==============================] - 59s 21ms/step - loss: 0.0517 - binary_accuracy: 0.9823 - precision: 0.9778 - recall: 0.9849 - val_loss: 0.1445 - val_binary_accuracy: 0.9613 - val_precision: 0.9538 - val_recall: 0.9652\n"
     ]
    }
   ],
   "source": [
    "from tensorflow.keras.layers import Dense, InputLayer\n",
    "from tensorflow.keras import Sequential\n",
    "from product_matcher.utils import timecallback\n",
    "\n",
    "model = Sequential([\n",
    "    InputLayer((x.shape[1], )),\n",
    "    Dense(units=64, activation='relu'),\n",
    "    Dense(units=1, activation='sigmoid')\n",
    "])\n",
    "earystop = tf.keras.callbacks.EarlyStopping(monitor='val_binary_accuracy', patience=4)\n",
    "timer = timecallback()\n",
    "# model compile\n",
    "model.compile(loss=tf.keras.losses.BinaryCrossentropy(from_logits=True),\n",
    "             optimizer = \"adam\", \n",
    "             metrics = [\"BinaryAccuracy\", \"Precision\", \"Recall\"]\n",
    "             )\n",
    "\n",
    "history = model.fit(\n",
    "    x=x, \n",
    "    y=Y_train, \n",
    "    batch_size=24,\n",
    "    validation_split=.2,\n",
    "    epochs = 10, \n",
    "    callbacks=[timer, earystop])"
   ]
  },
  {
   "cell_type": "code",
   "execution_count": 65,
   "id": "88415bf9",
   "metadata": {},
   "outputs": [
    {
     "name": "stdout",
     "output_type": "stream",
     "text": [
      "889/889 [==============================] - 3s 3ms/step - loss: 0.1466 - binary_accuracy: 0.9608 - precision: 0.9553 - recall: 0.9623\n"
     ]
    }
   ],
   "source": [
    "_, nn_acc, _, _ = model.evaluate(x_test, Y_test)"
   ]
  },
  {
   "cell_type": "code",
   "execution_count": 70,
   "id": "15b2dace",
   "metadata": {},
   "outputs": [
    {
     "name": "stdout",
     "output_type": "stream",
     "text": [
      "889/889 [==============================] - 3s 3ms/step\n"
     ]
    }
   ],
   "source": [
    "import numpy as np\n",
    "test['nn_prediction'] = (model.predict(x_test)>.5).astype(\"int32\")"
   ]
  },
  {
   "cell_type": "code",
   "execution_count": 75,
   "id": "260b3752",
   "metadata": {},
   "outputs": [],
   "source": [
    "import pandas as pd\n",
    "\n",
    "test_report = pd.DataFrame.from_dict(\n",
    "    {'decision tree':clf_acc, 'SVM': svc_acc, 'Ada Boost': ada_acc, 'KNN': knn_acc, \"NeuralNet\": nn_acc},\n",
    "    orient='index',columns=['Test Accuracy']\n",
    ")"
   ]
  },
  {
   "cell_type": "code",
   "execution_count": 76,
   "id": "9fa2056d",
   "metadata": {
    "scrolled": true
   },
   "outputs": [],
   "source": [
    "from sklearn.metrics import recall_score, precision_score, f1_score\n",
    "\n",
    "test_report['test recall'] = [\n",
    "    recall_score(test['clf_prediction'], test['label']),\n",
    "    recall_score(test['svm_prediction'], test['label']),\n",
    "    recall_score(test['adaboost_prediction'], test['label']),\n",
    "    recall_score(test['knn_prediction'], test['label']),\n",
    "    recall_score(test['nn_prediction'], test['label'])\n",
    "]\n",
    "\n",
    "test_report['test precision'] = [\n",
    "    precision_score(test['clf_prediction'], test['label']),\n",
    "    precision_score(test['svm_prediction'], test['label']),\n",
    "    precision_score(test['adaboost_prediction'], test['label']),\n",
    "    precision_score(test['knn_prediction'], test['label']),\n",
    "    precision_score(test['nn_prediction'], test['label'])\n",
    "]\n",
    "test_report['test f1 score'] = [\n",
    "    f1_score(test['clf_prediction'], test['label']),\n",
    "    f1_score(test['svm_prediction'], test['label']),\n",
    "    f1_score(test['adaboost_prediction'], test['label']),\n",
    "    f1_score(test['knn_prediction'], test['label']),\n",
    "    f1_score(test['nn_prediction'], test['label'])\n",
    "]"
   ]
  },
  {
   "cell_type": "code",
   "execution_count": 77,
   "id": "7d6c4910",
   "metadata": {},
   "outputs": [
    {
     "name": "stdout",
     "output_type": "stream",
     "text": [
      "\\begin{table}\n",
      "\\centering\n",
      "\\caption{Best Estimator On Testing Data}\n",
      "\\begin{tabular}{lrrrr}\n",
      "\\toprule\n",
      "{} &  Test Accuracy &  test recall &  test precision &  test f1 score \\\\\n",
      "\\midrule\n",
      "decision tree &       0.950710 &     0.954922 &        0.940321 &       0.947565 \\\\\n",
      "SVM           &       0.962031 &     0.956865 &        0.963257 &       0.960050 \\\\\n",
      "Ada Boost     &       0.956195 &     0.951811 &        0.955909 &       0.953855 \\\\\n",
      "KNN           &       0.955773 &     0.967754 &        0.937871 &       0.952578 \\\\\n",
      "NeuralNet     &       0.960800 &     0.955272 &        0.962292 &       0.958769 \\\\\n",
      "\\bottomrule\n",
      "\\end{tabular}\n",
      "\\end{table}\n",
      "\n"
     ]
    },
    {
     "name": "stderr",
     "output_type": "stream",
     "text": [
      "/var/folders/f9/35q1dxg13mqbmm0r53w0ymsm0000gp/T/ipykernel_83500/340901302.py:1: FutureWarning: In future versions `DataFrame.to_latex` is expected to utilise the base implementation of `Styler.to_latex` for formatting and rendering. The arguments signature may therefore change. It is recommended instead to use `DataFrame.style.to_latex` which also contains additional functionality.\n",
      "  print(test_report.to_latex(caption=\"Best Estimator On Testing Data\"))\n"
     ]
    }
   ],
   "source": [
    "print(test_report.to_latex(caption=\"Best Estimator On Testing Data\"))"
   ]
  },
  {
   "cell_type": "code",
   "execution_count": null,
   "id": "de7caffc",
   "metadata": {},
   "outputs": [],
   "source": []
  }
 ],
 "metadata": {
  "kernelspec": {
   "display_name": "Python 3 (ipykernel)",
   "language": "python",
   "name": "python3"
  },
  "language_info": {
   "codemirror_mode": {
    "name": "ipython",
    "version": 3
   },
   "file_extension": ".py",
   "mimetype": "text/x-python",
   "name": "python",
   "nbconvert_exporter": "python",
   "pygments_lexer": "ipython3",
   "version": "3.8.13"
  }
 },
 "nbformat": 4,
 "nbformat_minor": 5
}
